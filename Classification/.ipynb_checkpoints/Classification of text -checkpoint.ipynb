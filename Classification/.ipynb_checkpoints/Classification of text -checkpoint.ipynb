{
 "cells": [
  {
   "cell_type": "code",
   "execution_count": 1,
   "metadata": {},
   "outputs": [],
   "source": [
    "import spacy\n",
    "import pandas as pd\n",
    "import numpy as np\n",
    "import matplotlib.pyplot as plt\n",
    "import sys\n",
    "import codecs\n",
    "import math\n",
    "\n",
    "from sklearn.decomposition import TruncatedSVD\n",
    "from sklearn.feature_extraction.text import TfidfVectorizer\n",
    "from sklearn.manifold import TSNE\n",
    "from gensim.models import KeyedVectors\n",
    "from pylab import rcParams\n",
    "from gensim import corpora, models, similarities\n",
    "from collections import Counter\n",
    "from nltk.corpus import stopwords\n",
    "from bs4 import BeautifulSoup"
   ]
  },
  {
   "cell_type": "code",
   "execution_count": 2,
   "metadata": {},
   "outputs": [],
   "source": [
    "import seaborn as sns\n",
    "import base64\n",
    "import string\n",
    "import re\n",
    "from collections import defaultdict"
   ]
  },
  {
   "cell_type": "code",
   "execution_count": 3,
   "metadata": {},
   "outputs": [],
   "source": [
    "from gensim.models import KeyedVectors\n",
    "# Display plots in this notebook, instead of externally. \n",
    "from pylab import rcParams"
   ]
  },
  {
   "cell_type": "code",
   "execution_count": 4,
   "metadata": {},
   "outputs": [],
   "source": [
    "rcParams['figure.figsize'] = 16, 8\n",
    "#%matplotlib inline\n",
    "nlp = spacy.load('es')\n",
    "filepath = 'sample_esp_fixed.txt'  \n",
    "a= []\n",
    "with open(filepath) as fp:  \n",
    "    line = fp.readline()\n",
    "    cnt = 1\n",
    "    while line:\n",
    "        a.append(line)\n",
    "        line = fp.readline()\n",
    "        cnt += 1\n",
    "        "
   ]
  },
  {
   "cell_type": "code",
   "execution_count": 5,
   "metadata": {},
   "outputs": [],
   "source": [
    "a = [item.split('?')[0] for item in a]"
   ]
  },
  {
   "cell_type": "code",
   "execution_count": 6,
   "metadata": {},
   "outputs": [],
   "source": [
    "for i in range(len(a)):\n",
    "    if a[i][0] == '¿':\n",
    "        a[i] = a[i].replace('¿','')"
   ]
  },
  {
   "cell_type": "code",
   "execution_count": 7,
   "metadata": {},
   "outputs": [
    {
     "data": {
      "text/plain": [
       "['Cuántos minutos tiene una hora',\n",
       " 'Cuántas patas tiene una araña',\n",
       " 'Cuál es el río más caudaloso del mundo',\n",
       " 'Cada cuántos años tenemos un año bisiesto',\n",
       " 'Cuántos meses tienen 28 días',\n",
       " 'Qué es un siglo',\n",
       " 'Quién fue Cleopatra',\n",
       " 'Qué planeta es el más cercano al Sol',\n",
       " 'Cuál es la montaña más alta en la actualidad',\n",
       " 'Que nombre tiene el sonido que hace una oveja',\n",
       " 'En qué ciudad y en qué país se encuentra la Torre Eiffel',\n",
       " 'Para qué sirven las arterias y las venas',\n",
       " 'Qué es un delta',\n",
       " 'Si alguien de España habla español, alguien de Portugal portugués y alguien de Francia francés. ¿Qué habla alguien de Brasil',\n",
       " 'Qué huesos encontramos en el antebrazo',\n",
       " 'Qué tipo de palabra es \"aquí\"',\n",
       " 'Qué quiere decir que un triángulo sea isóceles',\n",
       " 'Si decimos que estamos en el XIX/XI/MMXVIII, ¿de qué fecha estamos hablando',\n",
       " 'Qué es un mamífero',\n",
       " 'Cuáles son los cinco continentes',\n",
       " 'Cuándo termina la Edad Antigua',\n",
       " 'Cuáles son los estados de la materia',\n",
       " 'A qué temperatura se congela el agua',\n",
       " 'Quién es tu primo',\n",
       " 'Cuál es el personaje más conocido de Miguel de Cervantes',\n",
       " 'Para qué sirve un adjetivo',\n",
       " 'En música, ¿A cuántos tiempos equivale una blanca',\n",
       " 'Cuál es el país con mayor población del mundo',\n",
       " 'Cuáles son los principales sectores económicos',\n",
       " 'Cuántas sílabas tiene la palabra abecedario',\n",
       " 'Qué significa que dos palabras sean sinónimos',\n",
       " 'Qué tipo de instrumento es un piano',\n",
       " 'Cuál es la sílaba tónica de la palabra amanecer',\n",
       " 'Qué son los montes Urales',\n",
       " 'Cómo se llamaban las tres carabelas que fueron a América con Cristóbal Colón',\n",
       " 'Cuánto suman los ángulos de un triángulo',\n",
       " 'Si tengo 25 manzanas y le doy a mi mejor amigo el 25% de ellas. ¿Cuántas manzanas le he dado',\n",
       " 'Cuáles son los planetas del sistema solar',\n",
       " 'En qué reinos clasificamos los seres vivos',\n",
       " 'Qué quiere decir que una palabra sea esdrújula',\n",
       " 'Si en una carrera adelanto al que va segundo',\n",
       " 'Cuáles son los tres modos verbales',\n",
       " 'Qué es un número primo',\n",
       " 'Cuántos kilos son una tonelada',\n",
       " 'Cómo se llaman los huesecillos del oído en los cuales el sonido rebota hasta llegar a la cóclea',\n",
       " 'Cuál es la capital de Italia',\n",
       " 'Cada cuántos lustros pasa un siglo',\n",
       " 'Qué es el complemento indirecto',\n",
       " 'En un texto narrativo, ¿cómo se denomina al personaje principal',\n",
       " 'Quién pintó la Mona Lisa']"
      ]
     },
     "execution_count": 7,
     "metadata": {},
     "output_type": "execute_result"
    }
   ],
   "source": [
    "a"
   ]
  },
  {
   "cell_type": "code",
   "execution_count": 11,
   "metadata": {},
   "outputs": [],
   "source": [
    "#a = [item.split() for item in a]"
   ]
  },
  {
   "cell_type": "code",
   "execution_count": 8,
   "metadata": {},
   "outputs": [],
   "source": [
    "corpus = nlp('\\n'.join(a))"
   ]
  },
  {
   "cell_type": "code",
   "execution_count": 9,
   "metadata": {},
   "outputs": [
    {
     "data": {
      "text/plain": [
       "Cuántos minutos tiene una hora\n",
       "Cuántas patas tiene una araña\n",
       "Cuál es el río más caudaloso del mundo\n",
       "Cada cuántos años tenemos un año bisiesto\n",
       "Cuántos meses tienen 28 días\n",
       "Qué es un siglo\n",
       "Quién fue Cleopatra\n",
       "Qué planeta es el más cercano al Sol\n",
       "Cuál es la montaña más alta en la actualidad\n",
       "Que nombre tiene el sonido que hace una oveja\n",
       "En qué ciudad y en qué país se encuentra la Torre Eiffel\n",
       "Para qué sirven las arterias y las venas\n",
       "Qué es un delta\n",
       "Si alguien de España habla español, alguien de Portugal portugués y alguien de Francia francés. ¿Qué habla alguien de Brasil\n",
       "Qué huesos encontramos en el antebrazo\n",
       "Qué tipo de palabra es \"aquí\"\n",
       "Qué quiere decir que un triángulo sea isóceles\n",
       "Si decimos que estamos en el XIX/XI/MMXVIII, ¿de qué fecha estamos hablando\n",
       "Qué es un mamífero\n",
       "Cuáles son los cinco continentes\n",
       "Cuándo termina la Edad Antigua\n",
       "Cuáles son los estados de la materia\n",
       "A qué temperatura se congela el agua\n",
       "Quién es tu primo\n",
       "Cuál es el personaje más conocido de Miguel de Cervantes\n",
       "Para qué sirve un adjetivo\n",
       "En música, ¿A cuántos tiempos equivale una blanca\n",
       "Cuál es el país con mayor población del mundo\n",
       "Cuáles son los principales sectores económicos\n",
       "Cuántas sílabas tiene la palabra abecedario\n",
       "Qué significa que dos palabras sean sinónimos\n",
       "Qué tipo de instrumento es un piano\n",
       "Cuál es la sílaba tónica de la palabra amanecer\n",
       "Qué son los montes Urales\n",
       "Cómo se llamaban las tres carabelas que fueron a América con Cristóbal Colón\n",
       "Cuánto suman los ángulos de un triángulo\n",
       "Si tengo 25 manzanas y le doy a mi mejor amigo el 25% de ellas. ¿Cuántas manzanas le he dado\n",
       "Cuáles son los planetas del sistema solar\n",
       "En qué reinos clasificamos los seres vivos\n",
       "Qué quiere decir que una palabra sea esdrújula\n",
       "Si en una carrera adelanto al que va segundo\n",
       "Cuáles son los tres modos verbales\n",
       "Qué es un número primo\n",
       "Cuántos kilos son una tonelada\n",
       "Cómo se llaman los huesecillos del oído en los cuales el sonido rebota hasta llegar a la cóclea\n",
       "Cuál es la capital de Italia\n",
       "Cada cuántos lustros pasa un siglo\n",
       "Qué es el complemento indirecto\n",
       "En un texto narrativo, ¿cómo se denomina al personaje principal\n",
       "Quién pintó la Mona Lisa"
      ]
     },
     "execution_count": 9,
     "metadata": {},
     "output_type": "execute_result"
    }
   ],
   "source": [
    "corpus"
   ]
  },
  {
   "cell_type": "code",
   "execution_count": 10,
   "metadata": {},
   "outputs": [],
   "source": [
    "stopwords = stopwords.words('spanish')"
   ]
  },
  {
   "cell_type": "code",
   "execution_count": 11,
   "metadata": {},
   "outputs": [],
   "source": [
    "#stoplist = set('el un la los una las Cada tu mi y en que de al'.split())\n",
    "texts = [[word for word in document.lower().split() if word not in stopwords] for document in a]"
   ]
  },
  {
   "cell_type": "code",
   "execution_count": 12,
   "metadata": {},
   "outputs": [
    {
     "data": {
      "text/plain": [
       "[['cuántos', 'minutos', 'hora'],\n",
       " ['cuántas', 'patas', 'araña'],\n",
       " ['cuál', 'río', 'caudaloso', 'mundo'],\n",
       " ['cada', 'cuántos', 'años', 'año', 'bisiesto'],\n",
       " ['cuántos', 'meses', '28', 'días'],\n",
       " ['siglo'],\n",
       " ['quién', 'cleopatra'],\n",
       " ['planeta', 'cercano', 'sol'],\n",
       " ['cuál', 'montaña', 'alta', 'actualidad'],\n",
       " ['nombre', 'sonido', 'hace', 'oveja'],\n",
       " ['ciudad', 'país', 'encuentra', 'torre', 'eiffel'],\n",
       " ['sirven', 'arterias', 'venas'],\n",
       " ['delta'],\n",
       " ['si',\n",
       "  'alguien',\n",
       "  'españa',\n",
       "  'habla',\n",
       "  'español,',\n",
       "  'alguien',\n",
       "  'portugal',\n",
       "  'portugués',\n",
       "  'alguien',\n",
       "  'francia',\n",
       "  'francés.',\n",
       "  '¿qué',\n",
       "  'habla',\n",
       "  'alguien',\n",
       "  'brasil'],\n",
       " ['huesos', 'encontramos', 'antebrazo'],\n",
       " ['tipo', 'palabra', '\"aquí\"'],\n",
       " ['quiere', 'decir', 'triángulo', 'isóceles'],\n",
       " ['si', 'decimos', 'xix/xi/mmxviii,', '¿de', 'fecha', 'hablando'],\n",
       " ['mamífero'],\n",
       " ['cuáles', 'cinco', 'continentes'],\n",
       " ['cuándo', 'termina', 'edad', 'antigua'],\n",
       " ['cuáles', 'materia'],\n",
       " ['temperatura', 'congela', 'agua'],\n",
       " ['quién', 'primo'],\n",
       " ['cuál', 'personaje', 'conocido', 'miguel', 'cervantes'],\n",
       " ['sirve', 'adjetivo'],\n",
       " ['música,', '¿a', 'cuántos', 'tiempos', 'equivale', 'blanca'],\n",
       " ['cuál', 'país', 'mayor', 'población', 'mundo'],\n",
       " ['cuáles', 'principales', 'sectores', 'económicos'],\n",
       " ['cuántas', 'sílabas', 'palabra', 'abecedario'],\n",
       " ['significa', 'dos', 'palabras', 'sinónimos'],\n",
       " ['tipo', 'instrumento', 'piano'],\n",
       " ['cuál', 'sílaba', 'tónica', 'palabra', 'amanecer'],\n",
       " ['montes', 'urales'],\n",
       " ['cómo', 'llamaban', 'tres', 'carabelas', 'américa', 'cristóbal', 'colón'],\n",
       " ['cuánto', 'suman', 'ángulos', 'triángulo'],\n",
       " ['si',\n",
       "  '25',\n",
       "  'manzanas',\n",
       "  'doy',\n",
       "  'mejor',\n",
       "  'amigo',\n",
       "  '25%',\n",
       "  'ellas.',\n",
       "  '¿cuántas',\n",
       "  'manzanas',\n",
       "  'dado'],\n",
       " ['cuáles', 'planetas', 'sistema', 'solar'],\n",
       " ['reinos', 'clasificamos', 'seres', 'vivos'],\n",
       " ['quiere', 'decir', 'palabra', 'esdrújula'],\n",
       " ['si', 'carrera', 'adelanto', 'va', 'segundo'],\n",
       " ['cuáles', 'tres', 'modos', 'verbales'],\n",
       " ['número', 'primo'],\n",
       " ['cuántos', 'kilos', 'tonelada'],\n",
       " ['cómo',\n",
       "  'llaman',\n",
       "  'huesecillos',\n",
       "  'oído',\n",
       "  'cuales',\n",
       "  'sonido',\n",
       "  'rebota',\n",
       "  'llegar',\n",
       "  'cóclea'],\n",
       " ['cuál', 'capital', 'italia'],\n",
       " ['cada', 'cuántos', 'lustros', 'pasa', 'siglo'],\n",
       " ['complemento', 'indirecto'],\n",
       " ['texto', 'narrativo,', '¿cómo', 'denomina', 'personaje', 'principal'],\n",
       " ['quién', 'pintó', 'mona', 'lisa']]"
      ]
     },
     "execution_count": 12,
     "metadata": {},
     "output_type": "execute_result"
    }
   ],
   "source": [
    "texts"
   ]
  },
  {
   "cell_type": "code",
   "execution_count": 13,
   "metadata": {},
   "outputs": [],
   "source": [
    "frequency = defaultdict(int)\n",
    "for text in texts:\n",
    "    for token in text:\n",
    "        frequency[token] += 1"
   ]
  },
  {
   "cell_type": "code",
   "execution_count": 14,
   "metadata": {},
   "outputs": [
    {
     "name": "stdout",
     "output_type": "stream",
     "text": [
      "Dictionary(164 unique tokens: ['cuántos', 'hora', 'minutos', 'araña', 'cuántas']...)\n"
     ]
    }
   ],
   "source": [
    "texts = [[token for token in text if frequency[token] > 0] for text in texts]\n",
    "dictionary = corpora.Dictionary(texts)\n",
    "dictionary.save('/tmp/deerwester.dict') \n",
    "print(dictionary)\n",
    "corpus = [dictionary.doc2bow(text) for text in texts]\n",
    "corpora.MmCorpus.serialize('/tmp/deerwester.mm', corpus)\n",
    "tfidf = models.TfidfModel(corpus)\n",
    "nf=len(dictionary.dfs)\n",
    "index = similarities.SparseMatrixSimilarity(tfidf[corpus], num_features=nf)"
   ]
  },
  {
   "cell_type": "code",
   "execution_count": 15,
   "metadata": {},
   "outputs": [
    {
     "data": {
      "text/plain": [
       "<gensim.similarities.docsim.SparseMatrixSimilarity at 0x7f53313f5860>"
      ]
     },
     "execution_count": 15,
     "metadata": {},
     "output_type": "execute_result"
    }
   ],
   "source": [
    "index"
   ]
  },
  {
   "cell_type": "code",
   "execution_count": 16,
   "metadata": {},
   "outputs": [
    {
     "name": "stdout",
     "output_type": "stream",
     "text": [
      "[(0, 0.0), (1, 0.0), (2, 0.0), (3, 0.0), (4, 0.0), (5, 0.0), (6, 0.0), (7, 0.0), (8, 0.0), (9, 0.0), (10, 0.0), (11, 0.0), (12, 0.0), (13, 0.0), (14, 0.0), (15, 0.0), (16, 0.0), (17, 0.0), (18, 0.0), (19, 0.0), (20, 0.0), (21, 0.0), (22, 0.0), (23, 0.0), (24, 0.0), (25, 0.0), (26, 0.0), (27, 0.0), (28, 0.0), (29, 0.0), (30, 0.0), (31, 0.0), (32, 0.0), (33, 0.0), (34, 0.0), (35, 0.0), (36, 0.0), (37, 0.54664886), (38, 0.0), (39, 0.0), (40, 0.0), (41, 0.0), (42, 0.0), (43, 0.0), (44, 0.0), (45, 0.0), (46, 0.0), (47, 0.0), (48, 0.0), (49, 0.0)]\n"
     ]
    }
   ],
   "source": [
    "vec = \"planetas\"\n",
    "new_doc = dictionary.doc2bow(vec.lower().split())\n",
    "sims = index[tfidf[new_doc]]\n",
    "print(list(enumerate(sims)))"
   ]
  },
  {
   "cell_type": "code",
   "execution_count": null,
   "metadata": {},
   "outputs": [],
   "source": [
    "sims.max()"
   ]
  },
  {
   "cell_type": "code",
   "execution_count": null,
   "metadata": {},
   "outputs": [],
   "source": []
  }
 ],
 "metadata": {
  "kernelspec": {
   "display_name": "Python 3",
   "language": "python",
   "name": "python3"
  },
  "language_info": {
   "codemirror_mode": {
    "name": "ipython",
    "version": 3
   },
   "file_extension": ".py",
   "mimetype": "text/x-python",
   "name": "python",
   "nbconvert_exporter": "python",
   "pygments_lexer": "ipython3",
   "version": "3.6.7"
  }
 },
 "nbformat": 4,
 "nbformat_minor": 2
}
