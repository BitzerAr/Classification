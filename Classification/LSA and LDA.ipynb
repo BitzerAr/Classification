{
 "cells": [
  {
   "cell_type": "code",
   "execution_count": 1,
   "metadata": {},
   "outputs": [],
   "source": [
    "\n",
    "filepath = 'sample_esp_fixed.txt'  \n",
    "a= []\n",
    "with open(filepath) as fp:  \n",
    "    line = fp.readline()\n",
    "    cnt = 1\n",
    "    while line:\n",
    "        a.append(line)\n",
    "        line = fp.readline()"
   ]
  },
  {
   "cell_type": "code",
   "execution_count": 17,
   "metadata": {},
   "outputs": [],
   "source": [
    "for i in range(len(a)):\n",
    "    a[i] = a[i].replace('\\n','')"
   ]
  },
  {
   "cell_type": "code",
   "execution_count": 21,
   "metadata": {},
   "outputs": [],
   "source": [
    "import re\n",
    "from gensim import models, corpora\n",
    "from nltk import word_tokenize\n",
    "from nltk.corpus import stopwords"
   ]
  },
  {
   "cell_type": "code",
   "execution_count": 22,
   "metadata": {},
   "outputs": [],
   "source": [
    "STOPWORDS = stopwords.words('spanish')\n",
    "\n",
    "def clean_text(text):\n",
    "    tokenized_text = word_tokenize(text.lower())\n",
    "    print(tokenized_text)\n",
    "    cleaned_text = [t for t in tokenized_text if t not in STOPWORDS and re.match('[a-zA-Z\\-][a-zA-Z\\-]{2,}', t)]\n",
    "    return cleaned_text"
   ]
  },
  {
   "cell_type": "code",
   "execution_count": 23,
   "metadata": {},
   "outputs": [
    {
     "name": "stdout",
     "output_type": "stream",
     "text": [
      "['cuántos', 'minutos', 'tiene', 'una', 'hora', 'y', 'un', 'día']\n",
      "['cuántas', 'patas', 'tiene', 'una', 'araña']\n",
      "['cuál', 'es', 'el', 'río', 'más', 'caudaloso', 'del', 'mundo']\n",
      "['cada', 'cuántos', 'años', 'tenemos', 'un', 'año', 'bisiesto']\n",
      "['cuántos', 'meses', 'tienen', '28', 'días']\n",
      "['qué', 'es', 'un', 'siglo']\n",
      "['quién', 'fue', 'cleopatra']\n",
      "['qué', 'planeta', 'es', 'el', 'más', 'cercano', 'al', 'sol']\n",
      "['cuál', 'es', 'la', 'montaña', 'más', 'alta', 'en', 'la', 'actualidad']\n",
      "['que', 'nombre', 'tiene', 'el', 'sonido', 'que', 'hace', 'una', 'oveja']\n",
      "['en', 'qué', 'ciudad', 'y', 'en', 'qué', 'país', 'se', 'encuentra', 'la', 'torre', 'eiffel']\n",
      "['para', 'qué', 'sirven', 'las', 'arterias', 'y', 'las', 'venas']\n",
      "['qué', 'es', 'un', 'delta']\n",
      "['si', 'alguien', 'de', 'españa', 'habla', 'español', ',', 'alguien', 'de', 'portugal', 'portugués', 'y', 'alguien', 'de', 'francia', 'francés', '.', 'qué', 'habla', 'alguien', 'de', 'brasil']\n",
      "['qué', 'huesos', 'encontramos', 'en', 'el', 'antebrazo']\n",
      "['qué', 'tipo', 'de', 'palabra', 'es', '``', 'aquí', \"''\"]\n",
      "['qué', 'quiere', 'decir', 'que', 'un', 'triángulo', 'sea', 'isóceles']\n",
      "['si', 'decimos', 'que', 'estamos', 'en', 'el', 'xix/xi/mmxviii', ',', 'de', 'qué', 'fecha', 'estamos', 'hablando']\n",
      "['qué', 'es', 'un', 'mamífero']\n",
      "['cuáles', 'son', 'los', 'cinco', 'continentes']\n",
      "['cuándo', 'termina', 'la', 'edad', 'antigua']\n",
      "['cuáles', 'son', 'los', 'estados', 'de', 'la', 'materia']\n",
      "['a', 'qué', 'temperatura', 'se', 'congela', 'el', 'agua', 'a', 'cuál', 'hierve', 'y', 'se', 'evapora']\n",
      "['quién', 'es', 'tu', 'primo']\n",
      "['cuál', 'es', 'el', 'personaje', 'más', 'conocido', 'de', 'miguel', 'de', 'cervantes']\n",
      "['para', 'qué', 'sirve', 'un', 'adjetivo']\n",
      "['en', 'música', ',', 'a', 'cuántos', 'tiempos', 'equivale', 'una', 'blanca']\n",
      "['cuál', 'es', 'el', 'país', 'con', 'mayor', 'población', 'del', 'mundo']\n",
      "['cuáles', 'son', 'los', 'principales', 'sectores', 'económicos']\n",
      "['cuántas', 'sílabas', 'tiene', 'la', 'palabra', 'abecedario']\n",
      "['qué', 'significa', 'que', 'dos', 'palabras', 'sean', 'sinónimos']\n",
      "['qué', 'tipo', 'de', 'instrumento', 'es', 'un', 'piano']\n",
      "['cuál', 'es', 'la', 'sílaba', 'tónica', 'de', 'la', 'palabra', 'amanecer']\n",
      "['qué', 'son', 'los', 'montes', 'urales']\n",
      "['cómo', 'se', 'llamaban', 'las', 'tres', 'carabelas', 'que', 'fueron', 'a', 'américa', 'con', 'cristóbal', 'colón']\n",
      "['cuánto', 'suman', 'los', 'ángulos', 'de', 'un', 'triángulo', 'y', 'los', 'de', 'un', 'cuadrado']\n",
      "['si', 'tengo', '25', 'manzanas', 'y', 'le', 'doy', 'a', 'mi', 'mejor', 'amigo', 'el', '25', '%', 'de', 'ellas', '.', 'cuántas', 'manzanas', 'le', 'he', 'dado']\n",
      "['cuáles', 'son', 'los', 'planetas', 'del', 'sistema', 'solar']\n",
      "['en', 'qué', 'reinos', 'clasificamos', 'los', 'seres', 'vivos']\n",
      "['qué', 'quiere', 'decir', 'que', 'una', 'palabra', 'sea', 'esdrújula']\n",
      "['si', 'en', 'una', 'carrera', 'adelanto', 'al', 'que', 'va', 'segundo', 'en', 'qué', 'posición', 'estaba', 'antes', 'y', 'en', 'cuál', 'estoy', 'ahora']\n",
      "['cuáles', 'son', 'los', 'tres', 'modos', 'verbales']\n",
      "['qué', 'es', 'un', 'número', 'primo']\n",
      "['cuántos', 'kilos', 'son', 'una', 'tonelada']\n",
      "['cómo', 'se', 'llaman', 'los', 'huesecillos', 'del', 'oído', 'en', 'los', 'cuales', 'el', 'sonido', 'rebota', 'hasta', 'llegar', 'a', 'la', 'cóclea']\n",
      "['cuál', 'es', 'la', 'capital', 'de', 'italia']\n",
      "['cada', 'cuántos', 'lustros', 'pasa', 'un', 'siglo']\n",
      "['qué', 'es', 'el', 'complemento', 'indirecto']\n",
      "['en', 'un', 'texto', 'narrativo', ',', 'cómo', 'se', 'denomina', 'al', 'personaje', 'principal', 'y', 'a', 'aquel', 'que', 'se', 'le', 'opone']\n",
      "['quién', 'pintó', 'la', 'mona', 'lisa']\n"
     ]
    }
   ],
   "source": [
    "tokenized_data = []\n",
    "for text in a:\n",
    "    tokenized_data.append(clean_text(text))"
   ]
  },
  {
   "cell_type": "code",
   "execution_count": 24,
   "metadata": {},
   "outputs": [],
   "source": [
    "dictionary = corpora.Dictionary(tokenized_data)"
   ]
  },
  {
   "cell_type": "code",
   "execution_count": 25,
   "metadata": {},
   "outputs": [],
   "source": [
    "corpus = [dictionary.doc2bow(text) for text in tokenized_data]"
   ]
  },
  {
   "cell_type": "code",
   "execution_count": 30,
   "metadata": {},
   "outputs": [],
   "source": [
    "NUM_TOPICS = 50"
   ]
  },
  {
   "cell_type": "code",
   "execution_count": 31,
   "metadata": {},
   "outputs": [],
   "source": [
    "lda_model = models.LdaModel(corpus=corpus, num_topics=NUM_TOPICS, id2word=dictionary)"
   ]
  },
  {
   "cell_type": "code",
   "execution_count": 32,
   "metadata": {},
   "outputs": [],
   "source": [
    "lsi_model = models.LsiModel(corpus=corpus, num_topics=NUM_TOPICS, id2word=dictionary)"
   ]
  },
  {
   "cell_type": "code",
   "execution_count": 33,
   "metadata": {},
   "outputs": [
    {
     "name": "stdout",
     "output_type": "stream",
     "text": [
      "LDA Model:\n",
      "Topic #0: 0.194*\"alguien\" + 0.097*\"habla\" + 0.049*\"españa\" + 0.049*\"francés\" + 0.049*\"español\" + 0.049*\"cristóbal\" + 0.049*\"llamaban\" + 0.049*\"tres\" + 0.049*\"carabelas\" + 0.049*\"brasil\"\n",
      "Topic #1: 0.231*\"manzanas\" + 0.116*\"amigo\" + 0.116*\"mejor\" + 0.116*\"doy\" + 0.116*\"dado\" + 0.002*\"llamaban\" + 0.002*\"carabelas\" + 0.002*\"colón\" + 0.002*\"cristóbal\" + 0.002*\"montes\"\n",
      "Topic #2: 0.080*\"tipo\" + 0.080*\"huesos\" + 0.080*\"encontramos\" + 0.080*\"clasificamos\" + 0.080*\"piano\" + 0.080*\"antebrazo\" + 0.080*\"reinos\" + 0.080*\"instrumento\" + 0.080*\"seres\" + 0.080*\"vivos\"\n",
      "Topic #3: 0.131*\"palabra\" + 0.131*\"equivale\" + 0.131*\"tiempos\" + 0.131*\"blanca\" + 0.131*\"abecedario\" + 0.003*\"dado\" + 0.003*\"llamaban\" + 0.003*\"tres\" + 0.003*\"cuadrado\" + 0.003*\"suman\"\n",
      "Topic #4: 0.177*\"tres\" + 0.177*\"verbales\" + 0.177*\"modos\" + 0.003*\"suman\" + 0.003*\"colón\" + 0.003*\"cristóbal\" + 0.003*\"llamaban\" + 0.003*\"urales\" + 0.003*\"cuadrado\" + 0.003*\"doy\"\n",
      "Topic #5: 0.177*\"tipo\" + 0.177*\"palabra\" + 0.177*\"aquí\" + 0.003*\"cristóbal\" + 0.003*\"llamaban\" + 0.003*\"tres\" + 0.003*\"cuadrado\" + 0.003*\"suman\" + 0.003*\"carabelas\" + 0.003*\"amigo\"\n",
      "Topic #6: 0.131*\"arterias\" + 0.131*\"venas\" + 0.131*\"amanecer\" + 0.131*\"palabra\" + 0.131*\"sirven\" + 0.003*\"tres\" + 0.003*\"cuadrado\" + 0.003*\"suman\" + 0.003*\"amigo\" + 0.003*\"dado\"\n",
      "Topic #7: 0.177*\"planetas\" + 0.177*\"sistema\" + 0.177*\"solar\" + 0.003*\"suman\" + 0.003*\"dado\" + 0.003*\"cristóbal\" + 0.003*\"llamaban\" + 0.003*\"tres\" + 0.003*\"cuadrado\" + 0.003*\"carabelas\"\n",
      "Topic #8: 0.105*\"cada\" + 0.105*\"materia\" + 0.105*\"siglo\" + 0.105*\"lustros\" + 0.105*\"pasa\" + 0.105*\"adjetivo\" + 0.105*\"sirve\" + 0.002*\"suman\" + 0.002*\"colón\" + 0.002*\"cristóbal\"\n",
      "Topic #9: 0.271*\"siglo\" + 0.005*\"suman\" + 0.005*\"carabelas\" + 0.005*\"colón\" + 0.005*\"cristóbal\" + 0.005*\"llamaban\" + 0.005*\"tres\" + 0.005*\"cuadrado\" + 0.005*\"montes\" + 0.005*\"doy\"\n",
      "Topic #10: 0.177*\"sectores\" + 0.177*\"económicos\" + 0.177*\"principales\" + 0.003*\"amigo\" + 0.003*\"cristóbal\" + 0.003*\"llamaban\" + 0.003*\"tres\" + 0.003*\"cuadrado\" + 0.003*\"suman\" + 0.003*\"carabelas\"\n",
      "Topic #11: 0.116*\"decir\" + 0.116*\"palabra\" + 0.116*\"esdrújula\" + 0.116*\"primo\" + 0.116*\"quiere\" + 0.116*\"quién\" + 0.002*\"llamaban\" + 0.002*\"tres\" + 0.002*\"cuadrado\" + 0.002*\"suman\"\n",
      "Topic #12: 0.131*\"población\" + 0.131*\"mundo\" + 0.131*\"araña\" + 0.131*\"patas\" + 0.131*\"mayor\" + 0.003*\"cuadrado\" + 0.003*\"tres\" + 0.003*\"amigo\" + 0.003*\"llamaban\" + 0.003*\"cristóbal\"\n",
      "Topic #13: 0.007*\"cuadrado\" + 0.007*\"amigo\" + 0.007*\"carabelas\" + 0.007*\"colón\" + 0.007*\"cristóbal\" + 0.007*\"llamaban\" + 0.007*\"tres\" + 0.007*\"montes\" + 0.007*\"suman\" + 0.007*\"manzanas\"\n",
      "Topic #14: 0.151*\"ciudad\" + 0.151*\"eiffel\" + 0.151*\"encuentra\" + 0.151*\"torre\" + 0.003*\"suman\" + 0.003*\"amigo\" + 0.003*\"tres\" + 0.003*\"cuadrado\" + 0.003*\"cristóbal\" + 0.003*\"manzanas\"\n",
      "Topic #15: 0.007*\"cuadrado\" + 0.007*\"amigo\" + 0.007*\"carabelas\" + 0.007*\"colón\" + 0.007*\"cristóbal\" + 0.007*\"llamaban\" + 0.007*\"tres\" + 0.007*\"montes\" + 0.007*\"suman\" + 0.007*\"manzanas\"\n",
      "Topic #16: 0.151*\"miguel\" + 0.151*\"conocido\" + 0.151*\"cervantes\" + 0.151*\"personaje\" + 0.003*\"cuadrado\" + 0.003*\"doy\" + 0.003*\"colón\" + 0.003*\"cristóbal\" + 0.003*\"llamaban\" + 0.003*\"tres\"\n",
      "Topic #17: 0.214*\"capital\" + 0.214*\"italia\" + 0.004*\"tres\" + 0.004*\"cuadrado\" + 0.004*\"carabelas\" + 0.004*\"colón\" + 0.004*\"cristóbal\" + 0.004*\"llamaban\" + 0.004*\"montes\" + 0.004*\"dado\"\n",
      "Topic #18: 0.131*\"cleopatra\" + 0.131*\"sol\" + 0.131*\"planeta\" + 0.131*\"cercano\" + 0.131*\"quién\" + 0.003*\"suman\" + 0.003*\"cristóbal\" + 0.003*\"llamaban\" + 0.003*\"tres\" + 0.003*\"cuadrado\"\n",
      "Topic #19: 0.131*\"carrera\" + 0.131*\"ahora\" + 0.131*\"segundo\" + 0.131*\"adelanto\" + 0.131*\"posición\" + 0.003*\"cristóbal\" + 0.003*\"llamaban\" + 0.003*\"tres\" + 0.003*\"cuadrado\" + 0.003*\"carabelas\"\n",
      "Topic #20: 0.007*\"cuadrado\" + 0.007*\"amigo\" + 0.007*\"carabelas\" + 0.007*\"colón\" + 0.007*\"cristóbal\" + 0.007*\"llamaban\" + 0.007*\"tres\" + 0.007*\"montes\" + 0.007*\"suman\" + 0.007*\"manzanas\"\n",
      "Topic #21: 0.116*\"urales\" + 0.116*\"pintó\" + 0.116*\"quién\" + 0.116*\"montes\" + 0.116*\"mona\" + 0.116*\"lisa\" + 0.002*\"cristóbal\" + 0.002*\"carabelas\" + 0.002*\"tres\" + 0.002*\"colón\"\n",
      "Topic #22: 0.007*\"cuadrado\" + 0.007*\"amigo\" + 0.007*\"carabelas\" + 0.007*\"colón\" + 0.007*\"cristóbal\" + 0.007*\"llamaban\" + 0.007*\"tres\" + 0.007*\"montes\" + 0.007*\"suman\" + 0.007*\"manzanas\"\n",
      "Topic #23: 0.095*\"meses\" + 0.095*\"temperatura\" + 0.095*\"agua\" + 0.095*\"congela\" + 0.095*\"evapora\" + 0.095*\"hierve\" + 0.095*\"tonelada\" + 0.095*\"kilos\" + 0.002*\"cristóbal\" + 0.002*\"carabelas\"\n",
      "Topic #24: 0.271*\"primo\" + 0.005*\"cuadrado\" + 0.005*\"amigo\" + 0.005*\"carabelas\" + 0.005*\"colón\" + 0.005*\"cristóbal\" + 0.005*\"llamaban\" + 0.005*\"tres\" + 0.005*\"montes\" + 0.005*\"suman\"\n",
      "Topic #25: 0.007*\"cuadrado\" + 0.007*\"amigo\" + 0.007*\"carabelas\" + 0.007*\"colón\" + 0.007*\"cristóbal\" + 0.007*\"llamaban\" + 0.007*\"tres\" + 0.007*\"montes\" + 0.007*\"suman\" + 0.007*\"manzanas\"\n",
      "Topic #26: 0.007*\"cuadrado\" + 0.007*\"amigo\" + 0.007*\"carabelas\" + 0.007*\"colón\" + 0.007*\"cristóbal\" + 0.007*\"llamaban\" + 0.007*\"tres\" + 0.007*\"montes\" + 0.007*\"suman\" + 0.007*\"manzanas\"\n",
      "Topic #27: 0.007*\"cuadrado\" + 0.007*\"amigo\" + 0.007*\"carabelas\" + 0.007*\"colón\" + 0.007*\"cristóbal\" + 0.007*\"llamaban\" + 0.007*\"tres\" + 0.007*\"montes\" + 0.007*\"suman\" + 0.007*\"manzanas\"\n",
      "Topic #28: 0.131*\"minutos\" + 0.131*\"hora\" + 0.131*\"alta\" + 0.131*\"actualidad\" + 0.131*\"montaña\" + 0.003*\"tres\" + 0.003*\"amigo\" + 0.003*\"colón\" + 0.003*\"cristóbal\" + 0.003*\"llamaban\"\n",
      "Topic #29: 0.007*\"cuadrado\" + 0.007*\"amigo\" + 0.007*\"carabelas\" + 0.007*\"colón\" + 0.007*\"cristóbal\" + 0.007*\"llamaban\" + 0.007*\"tres\" + 0.007*\"montes\" + 0.007*\"suman\" + 0.007*\"manzanas\"\n",
      "Topic #30: 0.214*\"bisiesto\" + 0.214*\"cada\" + 0.004*\"suman\" + 0.004*\"doy\" + 0.004*\"colón\" + 0.004*\"cristóbal\" + 0.004*\"llamaban\" + 0.004*\"tres\" + 0.004*\"cuadrado\" + 0.004*\"urales\"\n",
      "Topic #31: 0.214*\"caudaloso\" + 0.214*\"mundo\" + 0.004*\"suman\" + 0.004*\"doy\" + 0.004*\"colón\" + 0.004*\"cristóbal\" + 0.004*\"llamaban\" + 0.004*\"tres\" + 0.004*\"cuadrado\" + 0.004*\"urales\"\n",
      "Topic #32: 0.177*\"decir\" + 0.177*\"triángulo\" + 0.177*\"quiere\" + 0.003*\"suman\" + 0.003*\"cristóbal\" + 0.003*\"llamaban\" + 0.003*\"tres\" + 0.003*\"carabelas\" + 0.003*\"cuadrado\" + 0.003*\"doy\"\n",
      "Topic #33: 0.116*\"llaman\" + 0.116*\"huesecillos\" + 0.116*\"sonido\" + 0.116*\"llegar\" + 0.116*\"rebota\" + 0.116*\"cuales\" + 0.002*\"dado\" + 0.002*\"manzanas\" + 0.002*\"montes\" + 0.002*\"doy\"\n",
      "Topic #34: 0.131*\"edad\" + 0.131*\"indirecto\" + 0.131*\"termina\" + 0.131*\"complemento\" + 0.131*\"antigua\" + 0.003*\"llamaban\" + 0.003*\"urales\" + 0.003*\"carabelas\" + 0.003*\"colón\" + 0.003*\"cristóbal\"\n",
      "Topic #35: 0.151*\"sonido\" + 0.151*\"nombre\" + 0.151*\"oveja\" + 0.151*\"hace\" + 0.003*\"llamaban\" + 0.003*\"cuadrado\" + 0.003*\"sistema\" + 0.003*\"planetas\" + 0.003*\"colón\" + 0.003*\"cristóbal\"\n",
      "Topic #36: 0.007*\"cuadrado\" + 0.007*\"amigo\" + 0.007*\"carabelas\" + 0.007*\"colón\" + 0.007*\"cristóbal\" + 0.007*\"llamaban\" + 0.007*\"tres\" + 0.007*\"montes\" + 0.007*\"suman\" + 0.007*\"manzanas\"\n",
      "Topic #37: 0.007*\"cuadrado\" + 0.007*\"amigo\" + 0.007*\"carabelas\" + 0.007*\"colón\" + 0.007*\"cristóbal\" + 0.007*\"llamaban\" + 0.007*\"tres\" + 0.007*\"montes\" + 0.007*\"suman\" + 0.007*\"manzanas\"\n",
      "Topic #38: 0.007*\"cuadrado\" + 0.007*\"amigo\" + 0.007*\"carabelas\" + 0.007*\"colón\" + 0.007*\"cristóbal\" + 0.007*\"llamaban\" + 0.007*\"tres\" + 0.007*\"montes\" + 0.007*\"suman\" + 0.007*\"manzanas\"\n",
      "Topic #39: 0.151*\"suman\" + 0.151*\"triángulo\" + 0.151*\"delta\" + 0.151*\"cuadrado\" + 0.003*\"dado\" + 0.003*\"cristóbal\" + 0.003*\"llamaban\" + 0.003*\"tres\" + 0.003*\"carabelas\" + 0.003*\"manzanas\"\n",
      "Topic #40: 0.214*\"cinco\" + 0.214*\"continentes\" + 0.004*\"suman\" + 0.004*\"carabelas\" + 0.004*\"colón\" + 0.004*\"cristóbal\" + 0.004*\"llamaban\" + 0.004*\"tres\" + 0.004*\"montes\" + 0.004*\"cuadrado\"\n",
      "Topic #41: 0.271*\"mamífero\" + 0.005*\"cuadrado\" + 0.005*\"urales\" + 0.005*\"carabelas\" + 0.005*\"colón\" + 0.005*\"cristóbal\" + 0.005*\"llamaban\" + 0.005*\"tres\" + 0.005*\"suman\" + 0.005*\"doy\"\n",
      "Topic #42: 0.007*\"cuadrado\" + 0.007*\"amigo\" + 0.007*\"carabelas\" + 0.007*\"colón\" + 0.007*\"cristóbal\" + 0.007*\"llamaban\" + 0.007*\"tres\" + 0.007*\"montes\" + 0.007*\"suman\" + 0.007*\"manzanas\"\n",
      "Topic #43: 0.007*\"cuadrado\" + 0.007*\"amigo\" + 0.007*\"carabelas\" + 0.007*\"colón\" + 0.007*\"cristóbal\" + 0.007*\"llamaban\" + 0.007*\"tres\" + 0.007*\"montes\" + 0.007*\"suman\" + 0.007*\"manzanas\"\n",
      "Topic #44: 0.007*\"cuadrado\" + 0.007*\"amigo\" + 0.007*\"carabelas\" + 0.007*\"colón\" + 0.007*\"cristóbal\" + 0.007*\"llamaban\" + 0.007*\"tres\" + 0.007*\"montes\" + 0.007*\"suman\" + 0.007*\"manzanas\"\n",
      "Topic #45: 0.151*\"dos\" + 0.151*\"sinónimos\" + 0.151*\"significa\" + 0.151*\"palabras\" + 0.003*\"suman\" + 0.003*\"cristóbal\" + 0.003*\"llamaban\" + 0.003*\"tres\" + 0.003*\"carabelas\" + 0.003*\"cuadrado\"\n",
      "Topic #46: 0.007*\"cuadrado\" + 0.007*\"amigo\" + 0.007*\"carabelas\" + 0.007*\"colón\" + 0.007*\"cristóbal\" + 0.007*\"llamaban\" + 0.007*\"tres\" + 0.007*\"montes\" + 0.007*\"suman\" + 0.007*\"manzanas\"\n",
      "Topic #47: 0.105*\"aquel\" + 0.105*\"opone\" + 0.105*\"texto\" + 0.105*\"principal\" + 0.105*\"personaje\" + 0.105*\"narrativo\" + 0.105*\"denomina\" + 0.002*\"cristóbal\" + 0.002*\"colón\" + 0.002*\"tres\"\n",
      "Topic #48: 0.007*\"cuadrado\" + 0.007*\"amigo\" + 0.007*\"carabelas\" + 0.007*\"colón\" + 0.007*\"cristóbal\" + 0.007*\"llamaban\" + 0.007*\"tres\" + 0.007*\"montes\" + 0.007*\"suman\" + 0.007*\"manzanas\"\n",
      "Topic #49: 0.151*\"xix/xi/mmxviii\" + 0.151*\"hablando\" + 0.151*\"fecha\" + 0.151*\"decimos\" + 0.003*\"tres\" + 0.003*\"cristóbal\" + 0.003*\"llamaban\" + 0.003*\"colón\" + 0.003*\"cuadrado\" + 0.003*\"doy\"\n",
      "====================\n",
      "LSI Model:\n",
      "Topic #0: -0.770*\"alguien\" + -0.385*\"habla\" + -0.192*\"francia\" + -0.192*\"portugués\" + -0.192*\"españa\" + -0.192*\"español\" + -0.192*\"portugal\" + -0.192*\"brasil\" + -0.192*\"francés\" + -0.000*\"manzanas\"\n",
      "Topic #1: -0.707*\"manzanas\" + -0.354*\"doy\" + -0.354*\"amigo\" + -0.354*\"dado\" + -0.354*\"mejor\" + 0.000*\"personaje\" + 0.000*\"denomina\" + 0.000*\"opone\" + 0.000*\"principal\" + 0.000*\"narrativo\"\n",
      "Topic #2: -0.461*\"personaje\" + -0.354*\"opone\" + -0.354*\"principal\" + -0.354*\"narrativo\" + -0.354*\"aquel\" + -0.354*\"texto\" + -0.354*\"denomina\" + -0.107*\"conocido\" + -0.107*\"cervantes\" + -0.107*\"miguel\"\n",
      "Topic #3: -0.650*\"palabra\" + -0.430*\"decir\" + -0.430*\"quiere\" + -0.269*\"esdrújula\" + -0.206*\"triángulo\" + -0.191*\"tipo\" + -0.150*\"aquí\" + -0.116*\"abecedario\" + -0.116*\"amanecer\" + -0.045*\"cuadrado\"\n",
      "Topic #4: 0.516*\"sonido\" + 0.365*\"llaman\" + 0.365*\"cuales\" + 0.365*\"rebota\" + 0.365*\"huesecillos\" + 0.365*\"llegar\" + 0.151*\"oveja\" + 0.151*\"hace\" + 0.151*\"nombre\" + -0.000*\"palabra\"\n",
      "Topic #5: -0.562*\"tres\" + -0.397*\"cristóbal\" + -0.397*\"llamaban\" + -0.397*\"carabelas\" + -0.397*\"colón\" + -0.164*\"modos\" + -0.164*\"verbales\" + 0.000*\"palabra\" + 0.000*\"decir\" + 0.000*\"quién\"\n",
      "Topic #6: 0.728*\"quién\" + 0.356*\"mona\" + 0.356*\"lisa\" + 0.356*\"pintó\" + 0.239*\"primo\" + 0.180*\"cleopatra\" + -0.000*\"segundo\" + -0.000*\"adelanto\" + -0.000*\"posición\" + -0.000*\"ahora\"\n",
      "Topic #7: 0.327*\"temperatura\" + 0.327*\"congela\" + 0.327*\"evapora\" + 0.327*\"hierve\" + 0.327*\"agua\" + -0.305*\"posición\" + -0.305*\"adelanto\" + -0.305*\"carrera\" + -0.305*\"ahora\" + -0.305*\"segundo\"\n",
      "Topic #8: 0.327*\"carrera\" + 0.327*\"segundo\" + 0.327*\"adelanto\" + 0.327*\"ahora\" + 0.327*\"posición\" + 0.305*\"temperatura\" + 0.305*\"congela\" + 0.305*\"agua\" + 0.305*\"hierve\" + 0.305*\"evapora\"\n",
      "Topic #9: -0.579*\"cada\" + -0.535*\"siglo\" + -0.420*\"pasa\" + -0.420*\"lustros\" + -0.159*\"bisiesto\" + -0.000*\"congela\" + -0.000*\"temperatura\" + -0.000*\"agua\" + -0.000*\"hierve\" + -0.000*\"evapora\"\n",
      "Topic #10: -0.445*\"triángulo\" + 0.425*\"tipo\" + 0.402*\"palabra\" + -0.339*\"decir\" + -0.339*\"quiere\" + 0.245*\"aquí\" + -0.188*\"suman\" + -0.188*\"cuadrado\" + 0.179*\"instrumento\" + 0.179*\"piano\"\n",
      "Topic #11: -0.371*\"vivos\" + -0.371*\"clasificamos\" + -0.371*\"reinos\" + -0.371*\"seres\" + -0.273*\"palabras\" + -0.273*\"significa\" + -0.273*\"sinónimos\" + -0.273*\"dos\" + 0.193*\"hablando\" + 0.193*\"decimos\"\n",
      "Topic #12: -0.428*\"fecha\" + -0.428*\"xix/xi/mmxviii\" + -0.428*\"hablando\" + -0.428*\"decimos\" + -0.216*\"seres\" + -0.216*\"vivos\" + -0.216*\"clasificamos\" + -0.216*\"reinos\" + 0.139*\"ciudad\" + 0.139*\"torre\"\n",
      "Topic #13: 0.453*\"ciudad\" + 0.453*\"torre\" + 0.453*\"encuentra\" + 0.453*\"eiffel\" + -0.144*\"palabras\" + -0.144*\"dos\" + -0.144*\"sinónimos\" + -0.144*\"significa\" + 0.122*\"reinos\" + 0.122*\"seres\"\n",
      "Topic #14: 0.392*\"sinónimos\" + 0.392*\"palabras\" + 0.392*\"dos\" + 0.392*\"significa\" + -0.226*\"seres\" + -0.226*\"reinos\" + -0.226*\"clasificamos\" + -0.226*\"vivos\" + 0.156*\"encuentra\" + 0.156*\"ciudad\"\n",
      "Topic #15: 0.498*\"miguel\" + 0.498*\"cervantes\" + 0.498*\"conocido\" + 0.347*\"personaje\" + -0.151*\"aquel\" + -0.151*\"denomina\" + -0.151*\"opone\" + -0.151*\"principal\" + -0.151*\"texto\" + -0.151*\"narrativo\"\n",
      "Topic #16: -0.724*\"mundo\" + -0.447*\"mayor\" + -0.447*\"población\" + -0.276*\"caudaloso\" + -0.000*\"nombre\" + -0.000*\"hace\" + -0.000*\"oveja\" + -0.000*\"sonido\" + -0.000*\"conocido\" + -0.000*\"miguel\"\n",
      "Topic #17: -0.488*\"oveja\" + -0.488*\"hace\" + -0.488*\"nombre\" + -0.286*\"sonido\" + 0.202*\"llaman\" + 0.202*\"huesecillos\" + 0.202*\"cuales\" + 0.202*\"llegar\" + 0.202*\"rebota\" + 0.000*\"mundo\"\n",
      "Topic #18: 0.490*\"tipo\" + 0.408*\"triángulo\" + 0.377*\"piano\" + 0.377*\"instrumento\" + 0.314*\"cuadrado\" + 0.314*\"suman\" + -0.231*\"palabra\" + -0.143*\"esdrújula\" + 0.113*\"aquí\" + -0.100*\"abecedario\"\n",
      "Topic #19: -0.356*\"arterias\" + -0.356*\"venas\" + -0.356*\"sirven\" + -0.319*\"económicos\" + -0.319*\"principales\" + -0.319*\"sectores\" + -0.226*\"sol\" + -0.226*\"planeta\" + -0.226*\"cercano\" + 0.215*\"huesos\"\n",
      "Topic #20: -0.447*\"tiempos\" + -0.447*\"equivale\" + -0.447*\"blanca\" + -0.198*\"sectores\" + -0.198*\"principales\" + -0.198*\"económicos\" + -0.165*\"encontramos\" + -0.165*\"huesos\" + -0.165*\"antebrazo\" + -0.153*\"antigua\"\n",
      "Topic #21: 0.261*\"huesos\" + 0.261*\"antebrazo\" + 0.261*\"encontramos\" + 0.246*\"sol\" + 0.246*\"cercano\" + 0.246*\"planeta\" + -0.239*\"sectores\" + -0.239*\"principales\" + -0.239*\"económicos\" + -0.223*\"montaña\"\n",
      "Topic #22: -0.412*\"planetas\" + -0.412*\"sistema\" + -0.412*\"solar\" + 0.237*\"sol\" + 0.237*\"cercano\" + 0.237*\"planeta\" + 0.202*\"antebrazo\" + 0.202*\"huesos\" + 0.202*\"encontramos\" + 0.172*\"alta\"\n",
      "Topic #23: 0.401*\"venas\" + 0.401*\"sirven\" + 0.401*\"arterias\" + -0.287*\"sol\" + -0.287*\"cercano\" + -0.287*\"planeta\" + -0.182*\"solar\" + -0.182*\"sistema\" + -0.182*\"planetas\" + 0.152*\"actualidad\"\n",
      "Topic #24: -0.512*\"antigua\" + -0.512*\"termina\" + -0.512*\"edad\" + 0.194*\"económicos\" + 0.194*\"principales\" + 0.194*\"sectores\" + -0.170*\"sol\" + -0.170*\"cercano\" + -0.170*\"planeta\" + 0.058*\"sistema\"\n",
      "Topic #25: -0.356*\"encontramos\" + -0.356*\"huesos\" + -0.356*\"antebrazo\" + 0.315*\"blanca\" + 0.315*\"equivale\" + 0.315*\"tiempos\" + -0.251*\"sistema\" + -0.251*\"planetas\" + -0.251*\"solar\" + -0.180*\"económicos\"\n",
      "Topic #26: 0.463*\"actualidad\" + 0.463*\"alta\" + 0.463*\"montaña\" + 0.196*\"solar\" + 0.196*\"planetas\" + 0.196*\"sistema\" + 0.187*\"sol\" + 0.187*\"planeta\" + 0.187*\"cercano\" + -0.161*\"principales\"\n",
      "Topic #27: 0.395*\"suman\" + 0.395*\"cuadrado\" + 0.341*\"palabra\" + -0.312*\"decir\" + -0.312*\"quiere\" + -0.278*\"instrumento\" + -0.278*\"piano\" + 0.254*\"triángulo\" + 0.208*\"amanecer\" + 0.208*\"abecedario\"\n",
      "Topic #28: 0.575*\"modos\" + 0.575*\"verbales\" + 0.337*\"tres\" + -0.238*\"carabelas\" + -0.238*\"llamaban\" + -0.238*\"colón\" + -0.238*\"cristóbal\" + 0.000*\"suman\" + 0.000*\"cuadrado\" + 0.000*\"palabra\"\n",
      "Topic #29: -0.728*\"primo\" + 0.356*\"pintó\" + 0.356*\"lisa\" + 0.356*\"mona\" + -0.239*\"quién\" + -0.180*\"cleopatra\" + 0.000*\"montes\" + 0.000*\"urales\" + -0.000*\"caudaloso\" + 0.000*\"araña\"\n",
      "Topic #30: 0.517*\"adjetivo\" + 0.517*\"sirve\" + 0.315*\"urales\" + 0.315*\"montes\" + -0.261*\"complemento\" + -0.261*\"indirecto\" + -0.163*\"kilos\" + -0.163*\"tonelada\" + -0.159*\"continentes\" + -0.159*\"cinco\"\n",
      "Topic #31: -0.494*\"indirecto\" + -0.494*\"complemento\" + 0.350*\"tonelada\" + 0.350*\"kilos\" + -0.331*\"montes\" + -0.331*\"urales\" + 0.150*\"patas\" + 0.150*\"araña\" + -0.024*\"cinco\" + -0.024*\"continentes\"\n",
      "Topic #32: -0.582*\"araña\" + -0.582*\"patas\" + -0.299*\"indirecto\" + -0.299*\"complemento\" + 0.171*\"montes\" + 0.171*\"urales\" + -0.164*\"sirve\" + -0.164*\"adjetivo\" + -0.112*\"continentes\" + -0.112*\"cinco\"\n",
      "Topic #33: -0.647*\"cinco\" + -0.647*\"continentes\" + 0.200*\"complemento\" + 0.200*\"indirecto\" + 0.186*\"kilos\" + 0.186*\"tonelada\" + 0.066*\"capital\" + 0.066*\"italia\" + -0.047*\"urales\" + -0.047*\"montes\"\n",
      "Topic #34: 0.707*\"hora\" + 0.707*\"minutos\" + -0.000*\"alguien\" + -0.000*\"habla\" + -0.000*\"brasil\" + -0.000*\"portugués\" + -0.000*\"españa\" + -0.000*\"adjetivo\" + -0.000*\"sirve\" + -0.000*\"francia\"\n",
      "Topic #35: 0.572*\"italia\" + 0.572*\"capital\" + 0.289*\"sirve\" + 0.289*\"adjetivo\" + -0.173*\"urales\" + -0.173*\"montes\" + -0.162*\"patas\" + -0.162*\"araña\" + 0.129*\"indirecto\" + 0.129*\"complemento\"\n",
      "Topic #36: -0.522*\"kilos\" + -0.522*\"tonelada\" + -0.435*\"urales\" + -0.435*\"montes\" + -0.153*\"cinco\" + -0.153*\"continentes\" + -0.088*\"complemento\" + -0.088*\"indirecto\" + -0.057*\"capital\" + -0.057*\"italia\"\n",
      "Topic #37: -0.401*\"italia\" + -0.401*\"capital\" + 0.348*\"sirve\" + 0.348*\"adjetivo\" + -0.311*\"araña\" + -0.311*\"patas\" + 0.202*\"tonelada\" + 0.202*\"kilos\" + -0.201*\"urales\" + -0.201*\"montes\"\n",
      "Topic #38: 0.690*\"bisiesto\" + 0.501*\"cada\" + -0.449*\"siglo\" + -0.189*\"lustros\" + -0.189*\"pasa\" + -0.000*\"caudaloso\" + -0.000*\"montes\" + -0.000*\"urales\" + 0.000*\"indirecto\" + 0.000*\"complemento\"\n",
      "Topic #39: 0.684*\"cleopatra\" + -0.563*\"primo\" + 0.309*\"quién\" + -0.200*\"mona\" + -0.200*\"pintó\" + -0.200*\"lisa\" + 0.000*\"caudaloso\" + -0.000*\"población\" + -0.000*\"mayor\" + 0.000*\"mundo\"\n",
      "Topic #40: 0.724*\"caudaloso\" + -0.447*\"mayor\" + -0.447*\"población\" + 0.276*\"mundo\" + -0.000*\"cleopatra\" + 0.000*\"primo\" + -0.000*\"quién\" + 0.000*\"aquí\" + 0.000*\"mona\" + 0.000*\"pintó\"\n",
      "Topic #41: -0.637*\"aquí\" + 0.369*\"piano\" + 0.369*\"instrumento\" + 0.338*\"amanecer\" + 0.338*\"abecedario\" + -0.268*\"tipo\" + 0.093*\"palabra\" + 0.053*\"cuadrado\" + 0.053*\"suman\" + 0.053*\"esdrújula\"\n",
      "Topic #42: 0.808*\"mamífero\" + -0.394*\"delta\" + -0.296*\"amanecer\" + 0.296*\"abecedario\" + 0.111*\"meses\" + 0.067*\"materia\" + 0.000*\"esdrújula\" + -0.000*\"triángulo\" + 0.000*\"cuadrado\" + 0.000*\"suman\"\n",
      "Topic #43: -0.572*\"delta\" + -0.479*\"mamífero\" + -0.441*\"meses\" + -0.342*\"amanecer\" + 0.342*\"abecedario\" + 0.123*\"materia\" + 0.000*\"esdrújula\" + 0.000*\"suman\" + -0.000*\"triángulo\" + 0.000*\"cuadrado\"\n",
      "Topic #44: -0.896*\"materia\" + -0.281*\"meses\" + 0.197*\"delta\" + 0.192*\"abecedario\" + -0.192*\"amanecer\" + 0.068*\"mamífero\" + -0.000*\"aquí\" + 0.000*\"capital\" + 0.000*\"italia\" + 0.000*\"encontramos\"\n",
      "Topic #45: 0.580*\"delta\" + 0.506*\"abecedario\" + -0.506*\"amanecer\" + 0.259*\"meses\" + 0.252*\"materia\" + -0.144*\"mamífero\" + 0.000*\"esdrújula\" + 0.000*\"suman\" + 0.000*\"cuadrado\" + -0.000*\"aquí\"\n",
      "Topic #46: 0.804*\"meses\" + -0.378*\"delta\" + -0.336*\"materia\" + -0.304*\"mamífero\" + -0.051*\"amanecer\" + 0.051*\"abecedario\" + 0.000*\"aquí\" + -0.000*\"siglo\" + 0.000*\"cada\" + 0.000*\"tipo\"\n",
      "Topic #47: -0.656*\"esdrújula\" + 0.410*\"triángulo\" + -0.340*\"cuadrado\" + -0.340*\"suman\" + 0.265*\"abecedario\" + 0.265*\"amanecer\" + 0.094*\"decir\" + 0.094*\"quiere\" + 0.072*\"aquí\" + -0.054*\"palabra\"\n",
      "Topic #48: 0.715*\"siglo\" + -0.433*\"lustros\" + -0.433*\"pasa\" + 0.315*\"bisiesto\" + -0.119*\"cada\" + -0.000*\"esdrújula\" + 0.000*\"triángulo\" + -0.000*\"cuadrado\" + -0.000*\"suman\" + 0.000*\"abecedario\"\n",
      "Topic #49: 0.684*\"cleopatra\" + -0.563*\"quién\" + 0.309*\"primo\" + 0.200*\"lisa\" + 0.200*\"pintó\" + 0.200*\"mona\" + -0.000*\"siglo\" + -0.000*\"esdrújula\" + -0.000*\"suman\" + -0.000*\"cuadrado\"\n",
      "====================\n"
     ]
    }
   ],
   "source": [
    "print(\"LDA Model:\")\n",
    " \n",
    "for idx in range(NUM_TOPICS):\n",
    "    # Print the first 10 most representative topics\n",
    "    print(\"Topic #%s:\" % idx, lda_model.print_topic(idx, 10))\n",
    "print(\"=\" * 20)\n",
    " \n",
    "print(\"LSI Model:\")\n",
    " \n",
    "for idx in range(NUM_TOPICS):\n",
    "    # Print the first 10 most representative topics\n",
    "    print(\"Topic #%s:\" % idx, lsi_model.print_topic(idx, 10))\n",
    "\n",
    "print(\"=\" * 20)"
   ]
  },
  {
   "cell_type": "code",
   "execution_count": 45,
   "metadata": {},
   "outputs": [
    {
     "name": "stdout",
     "output_type": "stream",
     "text": [
      "['teresa', 'es', 'una', 'mona']\n"
     ]
    }
   ],
   "source": [
    "text = \"Teresa es una mona\"\n",
    "bow = dictionary.doc2bow(clean_text(text))"
   ]
  },
  {
   "cell_type": "code",
   "execution_count": 46,
   "metadata": {},
   "outputs": [
    {
     "name": "stdout",
     "output_type": "stream",
     "text": [
      "[(6, 0.35616393321370693), (29, 0.356163933213707), (39, -0.19953425606749556), (49, 0.1995342560674955)]\n"
     ]
    }
   ],
   "source": [
    "print(lsi_model[bow])"
   ]
  },
  {
   "cell_type": "code",
   "execution_count": 36,
   "metadata": {},
   "outputs": [
    {
     "name": "stdout",
     "output_type": "stream",
     "text": [
      "[(0, 0.02), (1, 0.02), (2, 0.02), (3, 0.02), (4, 0.02), (5, 0.02), (6, 0.02), (7, 0.02), (8, 0.02), (9, 0.02), (10, 0.02), (11, 0.02), (12, 0.02), (13, 0.02), (14, 0.02), (15, 0.02), (16, 0.02), (17, 0.02), (18, 0.02), (19, 0.02), (20, 0.02), (21, 0.02), (22, 0.02), (23, 0.02), (24, 0.02), (25, 0.02), (26, 0.02), (27, 0.02), (28, 0.02), (29, 0.02), (30, 0.02), (31, 0.02), (32, 0.02), (33, 0.02), (34, 0.02), (35, 0.02), (36, 0.02), (37, 0.02), (38, 0.02), (39, 0.02), (40, 0.02), (41, 0.02), (42, 0.02), (43, 0.02), (44, 0.02), (45, 0.02), (46, 0.02), (47, 0.02), (48, 0.02), (49, 0.02)]\n"
     ]
    }
   ],
   "source": [
    "print(lda_model[bow])"
   ]
  },
  {
   "cell_type": "markdown",
   "metadata": {},
   "source": [
    "# Gensim"
   ]
  },
  {
   "cell_type": "code",
   "execution_count": 48,
   "metadata": {},
   "outputs": [
    {
     "name": "stdout",
     "output_type": "stream",
     "text": [
      "[(33, 1.0), (49, 1.0), (0, 0.0), (1, 0.0), (2, 0.0), (3, 0.0), (4, 0.0), (5, 0.0), (6, 0.0), (7, 0.0)]\n",
      "Qué son los montes Urales\n"
     ]
    }
   ],
   "source": [
    "from gensim import similarities\n",
    " \n",
    "lda_index = similarities.MatrixSimilarity(lda_model[corpus])\n",
    " \n",
    "# Let's perform some queries\n",
    "similarities = lda_index[lda_model[bow]]\n",
    "# Sort the similarities\n",
    "similarities = sorted(enumerate(similarities), key=lambda item: -item[1])\n",
    " \n",
    "# Top most similar documents:\n",
    "print(similarities[:10])\n",
    "# [(104, 0.87591344), (178, 0.86124849), (31, 0.8604598), (77, 0.84932965), (85, 0.84843522), (135, 0.84421808), (215, 0.84184396), (353, 0.84038532), (254, 0.83498049), (13, 0.82832891)]\n",
    " \n",
    "# Let's see what's the most similar document\n",
    "document_id, similarity = similarities[0]\n",
    "print(a[document_id][:1000])"
   ]
  },
  {
   "cell_type": "markdown",
   "metadata": {},
   "source": [
    "# Sklearn"
   ]
  },
  {
   "cell_type": "code",
   "execution_count": 53,
   "metadata": {},
   "outputs": [
    {
     "name": "stdout",
     "output_type": "stream",
     "text": [
      "(50, 5)\n",
      "(50, 5)\n",
      "(50, 5)\n",
      "[0.06686472 0.06668268 0.06682066 0.06753247 0.73209946]\n",
      "[0.00000000e+00 3.66994992e-06 6.43835757e-01 0.00000000e+00\n",
      " 6.50419076e-01]\n",
      "[0.08875131 0.78336724 1.11605757 0.31196995 0.09518684]\n"
     ]
    },
    {
     "name": "stderr",
     "output_type": "stream",
     "text": [
      "/home/bitzer/tutorial/lib/python3.6/site-packages/sklearn/decomposition/online_lda.py:314: DeprecationWarning: n_topics has been renamed to n_components in version 0.19 and will be removed in 0.21\n",
      "  DeprecationWarning)\n"
     ]
    }
   ],
   "source": [
    "from sklearn.decomposition import NMF, LatentDirichletAllocation, TruncatedSVD\n",
    "from sklearn.feature_extraction.text import CountVectorizer\n",
    " \n",
    "NUM_TOPICS = 5\n",
    " \n",
    "vectorizer = CountVectorizer(min_df=5, max_df=0.9, \n",
    "                             stop_words='english', lowercase=True, \n",
    "                             token_pattern='[a-zA-Z\\-][a-zA-Z\\-]{2,}')\n",
    "data_vectorized = vectorizer.fit_transform(a)\n",
    " \n",
    "# Build a Latent Dirichlet Allocation Model\n",
    "lda_model = LatentDirichletAllocation(n_topics=NUM_TOPICS, max_iter=10, learning_method='online')\n",
    "lda_Z = lda_model.fit_transform(data_vectorized)\n",
    "print(lda_Z.shape)  # (NO_DOCUMENTS, NO_TOPICS)\n",
    " \n",
    "# Build a Non-Negative Matrix Factorization Model\n",
    "nmf_model = NMF(n_components=NUM_TOPICS)\n",
    "nmf_Z = nmf_model.fit_transform(data_vectorized)\n",
    "print(nmf_Z.shape)  # (NO_DOCUMENTS, NO_TOPICS)\n",
    " \n",
    "# Build a Latent Semantic Indexing Model\n",
    "lsi_model = TruncatedSVD(n_components=NUM_TOPICS)\n",
    "lsi_Z = lsi_model.fit_transform(data_vectorized)\n",
    "print(lsi_Z.shape)  # (NO_DOCUMENTS, NO_TOPICS)\n",
    " \n",
    " \n",
    "# Let's see how the first document in the corpus looks like in different topic spaces\n",
    "print(lda_Z[0])\n",
    "print(nmf_Z[0])\n",
    "print(lsi_Z[0])"
   ]
  },
  {
   "cell_type": "code",
   "execution_count": 54,
   "metadata": {},
   "outputs": [
    {
     "name": "stdout",
     "output_type": "stream",
     "text": [
      "LDA Model:\n",
      "Topic 0:\n",
      "[('que', 0.4463442542014514), ('una', 0.37654181091009176), ('les', 0.3717259892284743), ('ntos', 0.3551304972014196), ('los', 0.3443210496308527), ('son', 0.31874574501414804)]\n",
      "Topic 1:\n",
      "[('los', 8.820770704299747), ('son', 5.189595318628471), ('les', 4.330604980142768), ('una', 0.3726246112698115), ('que', 0.3434153312676182), ('ntos', 0.3246452006149129)]\n",
      "Topic 2:\n",
      "[('los', 0.6128489882214682), ('que', 0.4564037462459979), ('les', 0.3696071771154787), ('una', 0.36704613044849016), ('son', 0.34105833214041953), ('ntos', 0.3386914667618176)]\n",
      "Topic 3:\n",
      "[('que', 7.400864861654906), ('una', 3.060134338261891), ('los', 0.49773665317168453), ('son', 0.45052762321637807), ('ntos', 0.3994584845461781), ('les', 0.3661685044548145)]\n",
      "Topic 4:\n",
      "[('ntos', 5.138370758103316), ('una', 3.3131406512354475), ('son', 1.1045106404142184), ('les', 0.3823596959104182), ('que', 0.3268264921117001), ('los', 0.31686906464310566)]\n",
      "====================\n",
      "NMF Model:\n",
      "Topic 0:\n",
      "[('son', 1.314346597934331), ('les', 1.1007835408463515), ('los', 0.005673078368980522), ('una', 0.0), ('que', 0.0), ('ntos', 0.0)]\n",
      "Topic 1:\n",
      "[('que', 1.9230116720601833), ('una', 0.0029670090874317897), ('ntos', 1.5517192233979942e-08), ('son', 0.0), ('los', 0.0), ('les', 0.0)]\n",
      "Topic 2:\n",
      "[('una', 1.5460869089732079), ('son', 0.0680411615339581), ('que', 0.0), ('ntos', 0.0), ('los', 0.0), ('les', 0.0)]\n",
      "Topic 3:\n",
      "[('los', 1.696018299331371), ('son', 0.0018486593934868472), ('una', 0.0), ('que', 0.0), ('ntos', 0.0), ('les', 0.0)]\n",
      "Topic 4:\n",
      "[('ntos', 1.5278018601765377), ('son', 0.09244036331562447), ('una', 0.0), ('que', 0.0), ('los', 0.0), ('les', 0.0)]\n",
      "====================\n",
      "LSI Model:\n",
      "Topic 0:\n",
      "[('los', 0.7843605266016653), ('son', 0.4772299581903466), ('les', 0.3907860376276131), ('una', 0.0477692784375163), ('ntos', 0.040982032562292464), ('que', 0.018840731268484)]\n",
      "Topic 1:\n",
      "[('que', 0.7918158790224239), ('una', 0.5636564399982777), ('ntos', 0.21971079878389219), ('son', 0.033191762403836665), ('les', -0.022855953567994435), ('los', -0.07363496838584108)]\n",
      "Topic 2:\n",
      "[('ntos', 0.7240683954618131), ('una', 0.3919891786829294), ('son', 0.19066925410465524), ('les', 0.02329207396058408), ('los', -0.1772183535769313), ('que', -0.5037517369440124)]\n",
      "Topic 3:\n",
      "[('los', 0.589717608477805), ('ntos', 0.20355866860318728), ('una', 0.10841128107875558), ('que', -0.06996407886912824), ('les', -0.519857462665733), ('son', -0.5691197158782322)]\n",
      "Topic 4:\n",
      "[('una', 0.7112471151581207), ('los', 0.012932919127325913), ('son', 0.007503185654314808), ('les', -0.04127328276993895), ('que', -0.33566388196692), ('ntos', -0.6160602709633406)]\n",
      "====================\n"
     ]
    }
   ],
   "source": [
    "def print_topics(model, vectorizer, top_n=10):\n",
    "    for idx, topic in enumerate(model.components_):\n",
    "        print(\"Topic %d:\" % (idx))\n",
    "        print([(vectorizer.get_feature_names()[i], topic[i])\n",
    "                        for i in topic.argsort()[:-top_n - 1:-1]])\n",
    " \n",
    "print(\"LDA Model:\")\n",
    "print_topics(lda_model, vectorizer)\n",
    "print(\"=\" * 20)\n",
    " \n",
    "print(\"NMF Model:\")\n",
    "print_topics(nmf_model, vectorizer)\n",
    "print(\"=\" * 20)\n",
    " \n",
    "print(\"LSI Model:\")\n",
    "print_topics(lsi_model, vectorizer)\n",
    "print(\"=\" * 20)"
   ]
  },
  {
   "cell_type": "code",
   "execution_count": 59,
   "metadata": {},
   "outputs": [
    {
     "name": "stdout",
     "output_type": "stream",
     "text": [
      "[0. 0. 0. 0. 0.]\n"
     ]
    }
   ],
   "source": [
    "text = \"La mona lisa\"\n",
    "x = nmf_model.transform(vectorizer.transform([text]))[0]\n",
    "print(x)\n",
    " "
   ]
  },
  {
   "cell_type": "code",
   "execution_count": 61,
   "metadata": {},
   "outputs": [
    {
     "name": "stdout",
     "output_type": "stream",
     "text": [
      "Cuál es el río más caudaloso del mundo\n"
     ]
    }
   ],
   "source": [
    "from sklearn.metrics.pairwise import euclidean_distances\n",
    " \n",
    "def most_similar(x, Z, top_n=5):\n",
    "    dists = euclidean_distances(x.reshape(1, -1), Z)\n",
    "    pairs = enumerate(dists[0])\n",
    "    most_similar = sorted(pairs, key=lambda item: item[1])[:top_n]\n",
    "    return most_similar\n",
    " \n",
    "similarities = most_similar(x, nmf_Z)\n",
    "document_id, similarity = similarities[0]\n",
    "print(a[document_id][:1000])"
   ]
  },
  {
   "cell_type": "markdown",
   "metadata": {},
   "source": [
    "# Graficas"
   ]
  },
  {
   "cell_type": "code",
   "execution_count": 62,
   "metadata": {},
   "outputs": [
    {
     "data": {
      "text/html": [
       "\n",
       "    <div class=\"bk-root\">\n",
       "        <a href=\"https://bokeh.pydata.org\" target=\"_blank\" class=\"bk-logo bk-logo-small bk-logo-notebook\"></a>\n",
       "        <span id=\"1001\">Loading BokehJS ...</span>\n",
       "    </div>"
      ]
     },
     "metadata": {},
     "output_type": "display_data"
    },
    {
     "data": {
      "application/javascript": [
       "\n",
       "(function(root) {\n",
       "  function now() {\n",
       "    return new Date();\n",
       "  }\n",
       "\n",
       "  var force = true;\n",
       "\n",
       "  if (typeof (root._bokeh_onload_callbacks) === \"undefined\" || force === true) {\n",
       "    root._bokeh_onload_callbacks = [];\n",
       "    root._bokeh_is_loading = undefined;\n",
       "  }\n",
       "\n",
       "  var JS_MIME_TYPE = 'application/javascript';\n",
       "  var HTML_MIME_TYPE = 'text/html';\n",
       "  var EXEC_MIME_TYPE = 'application/vnd.bokehjs_exec.v0+json';\n",
       "  var CLASS_NAME = 'output_bokeh rendered_html';\n",
       "\n",
       "  /**\n",
       "   * Render data to the DOM node\n",
       "   */\n",
       "  function render(props, node) {\n",
       "    var script = document.createElement(\"script\");\n",
       "    node.appendChild(script);\n",
       "  }\n",
       "\n",
       "  /**\n",
       "   * Handle when an output is cleared or removed\n",
       "   */\n",
       "  function handleClearOutput(event, handle) {\n",
       "    var cell = handle.cell;\n",
       "\n",
       "    var id = cell.output_area._bokeh_element_id;\n",
       "    var server_id = cell.output_area._bokeh_server_id;\n",
       "    // Clean up Bokeh references\n",
       "    if (id != null && id in Bokeh.index) {\n",
       "      Bokeh.index[id].model.document.clear();\n",
       "      delete Bokeh.index[id];\n",
       "    }\n",
       "\n",
       "    if (server_id !== undefined) {\n",
       "      // Clean up Bokeh references\n",
       "      var cmd = \"from bokeh.io.state import curstate; print(curstate().uuid_to_server['\" + server_id + \"'].get_sessions()[0].document.roots[0]._id)\";\n",
       "      cell.notebook.kernel.execute(cmd, {\n",
       "        iopub: {\n",
       "          output: function(msg) {\n",
       "            var id = msg.content.text.trim();\n",
       "            if (id in Bokeh.index) {\n",
       "              Bokeh.index[id].model.document.clear();\n",
       "              delete Bokeh.index[id];\n",
       "            }\n",
       "          }\n",
       "        }\n",
       "      });\n",
       "      // Destroy server and session\n",
       "      var cmd = \"import bokeh.io.notebook as ion; ion.destroy_server('\" + server_id + \"')\";\n",
       "      cell.notebook.kernel.execute(cmd);\n",
       "    }\n",
       "  }\n",
       "\n",
       "  /**\n",
       "   * Handle when a new output is added\n",
       "   */\n",
       "  function handleAddOutput(event, handle) {\n",
       "    var output_area = handle.output_area;\n",
       "    var output = handle.output;\n",
       "\n",
       "    // limit handleAddOutput to display_data with EXEC_MIME_TYPE content only\n",
       "    if ((output.output_type != \"display_data\") || (!output.data.hasOwnProperty(EXEC_MIME_TYPE))) {\n",
       "      return\n",
       "    }\n",
       "\n",
       "    var toinsert = output_area.element.find(\".\" + CLASS_NAME.split(' ')[0]);\n",
       "\n",
       "    if (output.metadata[EXEC_MIME_TYPE][\"id\"] !== undefined) {\n",
       "      toinsert[toinsert.length - 1].firstChild.textContent = output.data[JS_MIME_TYPE];\n",
       "      // store reference to embed id on output_area\n",
       "      output_area._bokeh_element_id = output.metadata[EXEC_MIME_TYPE][\"id\"];\n",
       "    }\n",
       "    if (output.metadata[EXEC_MIME_TYPE][\"server_id\"] !== undefined) {\n",
       "      var bk_div = document.createElement(\"div\");\n",
       "      bk_div.innerHTML = output.data[HTML_MIME_TYPE];\n",
       "      var script_attrs = bk_div.children[0].attributes;\n",
       "      for (var i = 0; i < script_attrs.length; i++) {\n",
       "        toinsert[toinsert.length - 1].firstChild.setAttribute(script_attrs[i].name, script_attrs[i].value);\n",
       "      }\n",
       "      // store reference to server id on output_area\n",
       "      output_area._bokeh_server_id = output.metadata[EXEC_MIME_TYPE][\"server_id\"];\n",
       "    }\n",
       "  }\n",
       "\n",
       "  function register_renderer(events, OutputArea) {\n",
       "\n",
       "    function append_mime(data, metadata, element) {\n",
       "      // create a DOM node to render to\n",
       "      var toinsert = this.create_output_subarea(\n",
       "        metadata,\n",
       "        CLASS_NAME,\n",
       "        EXEC_MIME_TYPE\n",
       "      );\n",
       "      this.keyboard_manager.register_events(toinsert);\n",
       "      // Render to node\n",
       "      var props = {data: data, metadata: metadata[EXEC_MIME_TYPE]};\n",
       "      render(props, toinsert[toinsert.length - 1]);\n",
       "      element.append(toinsert);\n",
       "      return toinsert\n",
       "    }\n",
       "\n",
       "    /* Handle when an output is cleared or removed */\n",
       "    events.on('clear_output.CodeCell', handleClearOutput);\n",
       "    events.on('delete.Cell', handleClearOutput);\n",
       "\n",
       "    /* Handle when a new output is added */\n",
       "    events.on('output_added.OutputArea', handleAddOutput);\n",
       "\n",
       "    /**\n",
       "     * Register the mime type and append_mime function with output_area\n",
       "     */\n",
       "    OutputArea.prototype.register_mime_type(EXEC_MIME_TYPE, append_mime, {\n",
       "      /* Is output safe? */\n",
       "      safe: true,\n",
       "      /* Index of renderer in `output_area.display_order` */\n",
       "      index: 0\n",
       "    });\n",
       "  }\n",
       "\n",
       "  // register the mime type if in Jupyter Notebook environment and previously unregistered\n",
       "  if (root.Jupyter !== undefined) {\n",
       "    var events = require('base/js/events');\n",
       "    var OutputArea = require('notebook/js/outputarea').OutputArea;\n",
       "\n",
       "    if (OutputArea.prototype.mime_types().indexOf(EXEC_MIME_TYPE) == -1) {\n",
       "      register_renderer(events, OutputArea);\n",
       "    }\n",
       "  }\n",
       "\n",
       "  \n",
       "  if (typeof (root._bokeh_timeout) === \"undefined\" || force === true) {\n",
       "    root._bokeh_timeout = Date.now() + 5000;\n",
       "    root._bokeh_failed_load = false;\n",
       "  }\n",
       "\n",
       "  var NB_LOAD_WARNING = {'data': {'text/html':\n",
       "     \"<div style='background-color: #fdd'>\\n\"+\n",
       "     \"<p>\\n\"+\n",
       "     \"BokehJS does not appear to have successfully loaded. If loading BokehJS from CDN, this \\n\"+\n",
       "     \"may be due to a slow or bad network connection. Possible fixes:\\n\"+\n",
       "     \"</p>\\n\"+\n",
       "     \"<ul>\\n\"+\n",
       "     \"<li>re-rerun `output_notebook()` to attempt to load from CDN again, or</li>\\n\"+\n",
       "     \"<li>use INLINE resources instead, as so:</li>\\n\"+\n",
       "     \"</ul>\\n\"+\n",
       "     \"<code>\\n\"+\n",
       "     \"from bokeh.resources import INLINE\\n\"+\n",
       "     \"output_notebook(resources=INLINE)\\n\"+\n",
       "     \"</code>\\n\"+\n",
       "     \"</div>\"}};\n",
       "\n",
       "  function display_loaded() {\n",
       "    var el = document.getElementById(\"1001\");\n",
       "    if (el != null) {\n",
       "      el.textContent = \"BokehJS is loading...\";\n",
       "    }\n",
       "    if (root.Bokeh !== undefined) {\n",
       "      if (el != null) {\n",
       "        el.textContent = \"BokehJS \" + root.Bokeh.version + \" successfully loaded.\";\n",
       "      }\n",
       "    } else if (Date.now() < root._bokeh_timeout) {\n",
       "      setTimeout(display_loaded, 100)\n",
       "    }\n",
       "  }\n",
       "\n",
       "\n",
       "  function run_callbacks() {\n",
       "    try {\n",
       "      root._bokeh_onload_callbacks.forEach(function(callback) { callback() });\n",
       "    }\n",
       "    finally {\n",
       "      delete root._bokeh_onload_callbacks\n",
       "    }\n",
       "    console.info(\"Bokeh: all callbacks have finished\");\n",
       "  }\n",
       "\n",
       "  function load_libs(js_urls, callback) {\n",
       "    root._bokeh_onload_callbacks.push(callback);\n",
       "    if (root._bokeh_is_loading > 0) {\n",
       "      console.log(\"Bokeh: BokehJS is being loaded, scheduling callback at\", now());\n",
       "      return null;\n",
       "    }\n",
       "    if (js_urls == null || js_urls.length === 0) {\n",
       "      run_callbacks();\n",
       "      return null;\n",
       "    }\n",
       "    console.log(\"Bokeh: BokehJS not loaded, scheduling load and callback at\", now());\n",
       "    root._bokeh_is_loading = js_urls.length;\n",
       "    for (var i = 0; i < js_urls.length; i++) {\n",
       "      var url = js_urls[i];\n",
       "      var s = document.createElement('script');\n",
       "      s.src = url;\n",
       "      s.async = false;\n",
       "      s.onreadystatechange = s.onload = function() {\n",
       "        root._bokeh_is_loading--;\n",
       "        if (root._bokeh_is_loading === 0) {\n",
       "          console.log(\"Bokeh: all BokehJS libraries loaded\");\n",
       "          run_callbacks()\n",
       "        }\n",
       "      };\n",
       "      s.onerror = function() {\n",
       "        console.warn(\"failed to load library \" + url);\n",
       "      };\n",
       "      console.log(\"Bokeh: injecting script tag for BokehJS library: \", url);\n",
       "      document.getElementsByTagName(\"head\")[0].appendChild(s);\n",
       "    }\n",
       "  };var element = document.getElementById(\"1001\");\n",
       "  if (element == null) {\n",
       "    console.log(\"Bokeh: ERROR: autoload.js configured with elementid '1001' but no matching script tag was found. \")\n",
       "    return false;\n",
       "  }\n",
       "\n",
       "  var js_urls = [\"https://cdn.pydata.org/bokeh/release/bokeh-1.0.2.min.js\", \"https://cdn.pydata.org/bokeh/release/bokeh-widgets-1.0.2.min.js\", \"https://cdn.pydata.org/bokeh/release/bokeh-tables-1.0.2.min.js\", \"https://cdn.pydata.org/bokeh/release/bokeh-gl-1.0.2.min.js\"];\n",
       "\n",
       "  var inline_js = [\n",
       "    function(Bokeh) {\n",
       "      Bokeh.set_log_level(\"info\");\n",
       "    },\n",
       "    \n",
       "    function(Bokeh) {\n",
       "      \n",
       "    },\n",
       "    function(Bokeh) {\n",
       "      console.log(\"Bokeh: injecting CSS: https://cdn.pydata.org/bokeh/release/bokeh-1.0.2.min.css\");\n",
       "      Bokeh.embed.inject_css(\"https://cdn.pydata.org/bokeh/release/bokeh-1.0.2.min.css\");\n",
       "      console.log(\"Bokeh: injecting CSS: https://cdn.pydata.org/bokeh/release/bokeh-widgets-1.0.2.min.css\");\n",
       "      Bokeh.embed.inject_css(\"https://cdn.pydata.org/bokeh/release/bokeh-widgets-1.0.2.min.css\");\n",
       "      console.log(\"Bokeh: injecting CSS: https://cdn.pydata.org/bokeh/release/bokeh-tables-1.0.2.min.css\");\n",
       "      Bokeh.embed.inject_css(\"https://cdn.pydata.org/bokeh/release/bokeh-tables-1.0.2.min.css\");\n",
       "    }\n",
       "  ];\n",
       "\n",
       "  function run_inline_js() {\n",
       "    \n",
       "    if ((root.Bokeh !== undefined) || (force === true)) {\n",
       "      for (var i = 0; i < inline_js.length; i++) {\n",
       "        inline_js[i].call(root, root.Bokeh);\n",
       "      }if (force === true) {\n",
       "        display_loaded();\n",
       "      }} else if (Date.now() < root._bokeh_timeout) {\n",
       "      setTimeout(run_inline_js, 100);\n",
       "    } else if (!root._bokeh_failed_load) {\n",
       "      console.log(\"Bokeh: BokehJS failed to load within specified timeout.\");\n",
       "      root._bokeh_failed_load = true;\n",
       "    } else if (force !== true) {\n",
       "      var cell = $(document.getElementById(\"1001\")).parents('.cell').data().cell;\n",
       "      cell.output_area.append_execute_result(NB_LOAD_WARNING)\n",
       "    }\n",
       "\n",
       "  }\n",
       "\n",
       "  if (root._bokeh_is_loading === 0) {\n",
       "    console.log(\"Bokeh: BokehJS loaded, going straight to plotting\");\n",
       "    run_inline_js();\n",
       "  } else {\n",
       "    load_libs(js_urls, function() {\n",
       "      console.log(\"Bokeh: BokehJS plotting callback run at\", now());\n",
       "      run_inline_js();\n",
       "    });\n",
       "  }\n",
       "}(window));"
      ],
      "application/vnd.bokehjs_load.v0+json": "\n(function(root) {\n  function now() {\n    return new Date();\n  }\n\n  var force = true;\n\n  if (typeof (root._bokeh_onload_callbacks) === \"undefined\" || force === true) {\n    root._bokeh_onload_callbacks = [];\n    root._bokeh_is_loading = undefined;\n  }\n\n  \n\n  \n  if (typeof (root._bokeh_timeout) === \"undefined\" || force === true) {\n    root._bokeh_timeout = Date.now() + 5000;\n    root._bokeh_failed_load = false;\n  }\n\n  var NB_LOAD_WARNING = {'data': {'text/html':\n     \"<div style='background-color: #fdd'>\\n\"+\n     \"<p>\\n\"+\n     \"BokehJS does not appear to have successfully loaded. If loading BokehJS from CDN, this \\n\"+\n     \"may be due to a slow or bad network connection. Possible fixes:\\n\"+\n     \"</p>\\n\"+\n     \"<ul>\\n\"+\n     \"<li>re-rerun `output_notebook()` to attempt to load from CDN again, or</li>\\n\"+\n     \"<li>use INLINE resources instead, as so:</li>\\n\"+\n     \"</ul>\\n\"+\n     \"<code>\\n\"+\n     \"from bokeh.resources import INLINE\\n\"+\n     \"output_notebook(resources=INLINE)\\n\"+\n     \"</code>\\n\"+\n     \"</div>\"}};\n\n  function display_loaded() {\n    var el = document.getElementById(\"1001\");\n    if (el != null) {\n      el.textContent = \"BokehJS is loading...\";\n    }\n    if (root.Bokeh !== undefined) {\n      if (el != null) {\n        el.textContent = \"BokehJS \" + root.Bokeh.version + \" successfully loaded.\";\n      }\n    } else if (Date.now() < root._bokeh_timeout) {\n      setTimeout(display_loaded, 100)\n    }\n  }\n\n\n  function run_callbacks() {\n    try {\n      root._bokeh_onload_callbacks.forEach(function(callback) { callback() });\n    }\n    finally {\n      delete root._bokeh_onload_callbacks\n    }\n    console.info(\"Bokeh: all callbacks have finished\");\n  }\n\n  function load_libs(js_urls, callback) {\n    root._bokeh_onload_callbacks.push(callback);\n    if (root._bokeh_is_loading > 0) {\n      console.log(\"Bokeh: BokehJS is being loaded, scheduling callback at\", now());\n      return null;\n    }\n    if (js_urls == null || js_urls.length === 0) {\n      run_callbacks();\n      return null;\n    }\n    console.log(\"Bokeh: BokehJS not loaded, scheduling load and callback at\", now());\n    root._bokeh_is_loading = js_urls.length;\n    for (var i = 0; i < js_urls.length; i++) {\n      var url = js_urls[i];\n      var s = document.createElement('script');\n      s.src = url;\n      s.async = false;\n      s.onreadystatechange = s.onload = function() {\n        root._bokeh_is_loading--;\n        if (root._bokeh_is_loading === 0) {\n          console.log(\"Bokeh: all BokehJS libraries loaded\");\n          run_callbacks()\n        }\n      };\n      s.onerror = function() {\n        console.warn(\"failed to load library \" + url);\n      };\n      console.log(\"Bokeh: injecting script tag for BokehJS library: \", url);\n      document.getElementsByTagName(\"head\")[0].appendChild(s);\n    }\n  };var element = document.getElementById(\"1001\");\n  if (element == null) {\n    console.log(\"Bokeh: ERROR: autoload.js configured with elementid '1001' but no matching script tag was found. \")\n    return false;\n  }\n\n  var js_urls = [\"https://cdn.pydata.org/bokeh/release/bokeh-1.0.2.min.js\", \"https://cdn.pydata.org/bokeh/release/bokeh-widgets-1.0.2.min.js\", \"https://cdn.pydata.org/bokeh/release/bokeh-tables-1.0.2.min.js\", \"https://cdn.pydata.org/bokeh/release/bokeh-gl-1.0.2.min.js\"];\n\n  var inline_js = [\n    function(Bokeh) {\n      Bokeh.set_log_level(\"info\");\n    },\n    \n    function(Bokeh) {\n      \n    },\n    function(Bokeh) {\n      console.log(\"Bokeh: injecting CSS: https://cdn.pydata.org/bokeh/release/bokeh-1.0.2.min.css\");\n      Bokeh.embed.inject_css(\"https://cdn.pydata.org/bokeh/release/bokeh-1.0.2.min.css\");\n      console.log(\"Bokeh: injecting CSS: https://cdn.pydata.org/bokeh/release/bokeh-widgets-1.0.2.min.css\");\n      Bokeh.embed.inject_css(\"https://cdn.pydata.org/bokeh/release/bokeh-widgets-1.0.2.min.css\");\n      console.log(\"Bokeh: injecting CSS: https://cdn.pydata.org/bokeh/release/bokeh-tables-1.0.2.min.css\");\n      Bokeh.embed.inject_css(\"https://cdn.pydata.org/bokeh/release/bokeh-tables-1.0.2.min.css\");\n    }\n  ];\n\n  function run_inline_js() {\n    \n    if ((root.Bokeh !== undefined) || (force === true)) {\n      for (var i = 0; i < inline_js.length; i++) {\n        inline_js[i].call(root, root.Bokeh);\n      }if (force === true) {\n        display_loaded();\n      }} else if (Date.now() < root._bokeh_timeout) {\n      setTimeout(run_inline_js, 100);\n    } else if (!root._bokeh_failed_load) {\n      console.log(\"Bokeh: BokehJS failed to load within specified timeout.\");\n      root._bokeh_failed_load = true;\n    } else if (force !== true) {\n      var cell = $(document.getElementById(\"1001\")).parents('.cell').data().cell;\n      cell.output_area.append_execute_result(NB_LOAD_WARNING)\n    }\n\n  }\n\n  if (root._bokeh_is_loading === 0) {\n    console.log(\"Bokeh: BokehJS loaded, going straight to plotting\");\n    run_inline_js();\n  } else {\n    load_libs(js_urls, function() {\n      console.log(\"Bokeh: BokehJS plotting callback run at\", now());\n      run_inline_js();\n    });\n  }\n}(window));"
     },
     "metadata": {},
     "output_type": "display_data"
    }
   ],
   "source": [
    "import pandas as pd\n",
    "from bokeh.io import push_notebook, show, output_notebook\n",
    "from bokeh.plotting import figure\n",
    "from bokeh.models import ColumnDataSource, LabelSet\n",
    "output_notebook()"
   ]
  },
  {
   "cell_type": "code",
   "execution_count": 64,
   "metadata": {},
   "outputs": [
    {
     "data": {
      "text/html": [
       "\n",
       "\n",
       "\n",
       "\n",
       "\n",
       "\n",
       "  <div class=\"bk-root\" id=\"46c83e9d-f89c-4a3d-9520-1ed1a1bf55bb\"></div>\n"
      ]
     },
     "metadata": {},
     "output_type": "display_data"
    },
    {
     "data": {
      "application/javascript": [
       "(function(root) {\n",
       "  function embed_document(root) {\n",
       "    \n",
       "  var docs_json = {\"4c8b3f5a-9b58-4e6b-ad6b-edcdbd1fe4fa\":{\"roots\":{\"references\":[{\"attributes\":{\"below\":[{\"id\":\"1014\",\"type\":\"LinearAxis\"}],\"left\":[{\"id\":\"1019\",\"type\":\"LinearAxis\"}],\"renderers\":[{\"id\":\"1014\",\"type\":\"LinearAxis\"},{\"id\":\"1018\",\"type\":\"Grid\"},{\"id\":\"1019\",\"type\":\"LinearAxis\"},{\"id\":\"1023\",\"type\":\"Grid\"},{\"id\":\"1032\",\"type\":\"BoxAnnotation\"},{\"id\":\"1042\",\"type\":\"GlyphRenderer\"},{\"id\":\"1003\",\"type\":\"LabelSet\"}],\"title\":{\"id\":\"1044\",\"type\":\"Title\"},\"toolbar\":{\"id\":\"1030\",\"type\":\"Toolbar\"},\"x_range\":{\"id\":\"1006\",\"type\":\"DataRange1d\"},\"x_scale\":{\"id\":\"1010\",\"type\":\"LinearScale\"},\"y_range\":{\"id\":\"1008\",\"type\":\"DataRange1d\"},\"y_scale\":{\"id\":\"1012\",\"type\":\"LinearScale\"}},\"id\":\"1005\",\"subtype\":\"Figure\",\"type\":\"Plot\"},{\"attributes\":{},\"id\":\"1028\",\"type\":\"ResetTool\"},{\"attributes\":{\"active_drag\":\"auto\",\"active_inspect\":\"auto\",\"active_multi\":null,\"active_scroll\":\"auto\",\"active_tap\":\"auto\",\"tools\":[{\"id\":\"1024\",\"type\":\"PanTool\"},{\"id\":\"1025\",\"type\":\"WheelZoomTool\"},{\"id\":\"1026\",\"type\":\"BoxZoomTool\"},{\"id\":\"1027\",\"type\":\"SaveTool\"},{\"id\":\"1028\",\"type\":\"ResetTool\"},{\"id\":\"1029\",\"type\":\"HelpTool\"}]},\"id\":\"1030\",\"type\":\"Toolbar\"},{\"attributes\":{},\"id\":\"1027\",\"type\":\"SaveTool\"},{\"attributes\":{\"fill_alpha\":{\"value\":0.1},\"fill_color\":{\"value\":\"#1f77b4\"},\"line_alpha\":{\"value\":0.1},\"line_color\":{\"value\":\"#1f77b4\"},\"size\":{\"units\":\"screen\",\"value\":12},\"x\":{\"field\":\"x\"},\"y\":{\"field\":\"y\"}},\"id\":\"1041\",\"type\":\"Circle\"},{\"attributes\":{\"overlay\":{\"id\":\"1032\",\"type\":\"BoxAnnotation\"}},\"id\":\"1026\",\"type\":\"BoxZoomTool\"},{\"attributes\":{\"fill_alpha\":{\"value\":0.8},\"fill_color\":{\"value\":\"#1f77b4\"},\"size\":{\"units\":\"screen\",\"value\":12},\"x\":{\"field\":\"x\"},\"y\":{\"field\":\"y\"}},\"id\":\"1040\",\"type\":\"Circle\"},{\"attributes\":{},\"id\":\"1024\",\"type\":\"PanTool\"},{\"attributes\":{},\"id\":\"1029\",\"type\":\"HelpTool\"},{\"attributes\":{\"data_source\":{\"id\":\"1002\",\"type\":\"ColumnDataSource\"},\"glyph\":{\"id\":\"1040\",\"type\":\"Circle\"},\"hover_glyph\":null,\"muted_glyph\":null,\"nonselection_glyph\":{\"id\":\"1041\",\"type\":\"Circle\"},\"selection_glyph\":null,\"view\":{\"id\":\"1043\",\"type\":\"CDSView\"}},\"id\":\"1042\",\"type\":\"GlyphRenderer\"},{\"attributes\":{\"bottom_units\":\"screen\",\"fill_alpha\":{\"value\":0.5},\"fill_color\":{\"value\":\"lightgrey\"},\"left_units\":\"screen\",\"level\":\"overlay\",\"line_alpha\":{\"value\":1.0},\"line_color\":{\"value\":\"black\"},\"line_dash\":[4,4],\"line_width\":{\"value\":2},\"plot\":null,\"render_mode\":\"css\",\"right_units\":\"screen\",\"top_units\":\"screen\"},\"id\":\"1032\",\"type\":\"BoxAnnotation\"},{\"attributes\":{\"source\":{\"id\":\"1002\",\"type\":\"ColumnDataSource\"}},\"id\":\"1043\",\"type\":\"CDSView\"},{\"attributes\":{\"callback\":null},\"id\":\"1006\",\"type\":\"DataRange1d\"},{\"attributes\":{},\"id\":\"1025\",\"type\":\"WheelZoomTool\"},{\"attributes\":{\"callback\":null},\"id\":\"1008\",\"type\":\"DataRange1d\"},{\"attributes\":{\"plot\":null,\"text\":\"\"},\"id\":\"1044\",\"type\":\"Title\"},{\"attributes\":{},\"id\":\"1010\",\"type\":\"LinearScale\"},{\"attributes\":{},\"id\":\"1046\",\"type\":\"BasicTickFormatter\"},{\"attributes\":{},\"id\":\"1012\",\"type\":\"LinearScale\"},{\"attributes\":{},\"id\":\"1048\",\"type\":\"BasicTickFormatter\"},{\"attributes\":{\"callback\":null,\"data\":{\"document\":[0,1,2,3,4,5,6,7,8,9,10,11,12,13,14,15,16,17,18,19,20,21,22,23,24,25,26,27,28,29,30,31,32,33,34,35,36,37,38,39,40,41,42,43,44,45,46,47,48,49],\"index\":[0,1,2,3,4,5,6,7,8,9,10,11,12,13,14,15,16,17,18,19,20,21,22,23,24,25,26,27,28,29,30,31,32,33,34,35,36,37,38,39,40,41,42,43,44,45,46,47,48,49],\"x\":{\"__ndarray__\":\"Mqc46me4tj8FCUkBN3WoP8Q9jmPmN867JUUo05j7pD8lRSjTmPukPwAAAAAAAAAAAAAAAAAAAAAAAAAAAAAAAAAAAAAAAAAA/ITniRngtT8AAAAAAAAAAAAAAAAAAAAAAAAAAAAAAAAAAAAAAAAAAAAAAAAAAAAAAAAAAAAAAAC2AIYS/EqTP7YAhhL8SpM/AAAAAAAAAAAth0ddInD6PwAAAAAAAAAALYdHXSJw+j8AAAAAAAAAAAAAAAAAAAAAAAAAAAAAAAAAAAAAAAAAAB6nOOpnuLY/AAAAAAAAAAAth0ddInD6PwAAAAAAAAAAtgCGEvxKkz8AAAAAAAAAAAAAAAAAAAAADgYSgXkv9D+2AIYS/EqTPzPhQD97Gfk/AAAAAAAAAAAth0ddInD6PzPhQD97Gek/uARGhVoNsT+4BEaFWg2xPy2HR10icPo/AAAAAAAAAADLPyrAhBziPzPhQD97Gfk/AAAAAAAAAAAlRSjTmPukPwAAAAAAAAAAtgCGEvxKkz8AAAAAAAAAAA==\",\"dtype\":\"float64\",\"shape\":[50]},\"y\":{\"__ndarray__\":\"yXjqK1gR6T/OHf86eQniPxp9Dw8m5sQ71Wutw3sfzD/Va63Dex/MPwAAAAAAAAAAAAAAAAAAAAAAAAAAAAAAAAAAAAAAAAAAuXRNb6UtAUAAAAAAAAAAAAAAAAAAAAAAAAAAAAAAAAAAAAAAAAAAAAAAAAAAAAAAAAAAAAAAAACMWhtBjlbpP4xaG0GOVuk/AAAAAAAAAADfqyGsXzSwvwAAAAAAAAAA36shrF80sL8AAAAAAAAAAAAAAAAAAAAAAAAAAAAAAAAAAAAAAAAAAMJ46itYEek/AAAAAAAAAADfqyGsXzSwvwAAAAAAAAAAjFobQY5W6T8AAAAAAAAAAAAAAAAAAAAAuYETzvi0pL+MWhtBjlbpP4cmD8W92cK/AAAAAAAAAADfqyGsXzSwv4cmD8W92bK/LDwNvgOw9T8sPA2+A7D1P9+rIaxfNLC/AAAAAAAAAAB5JatXQCHqP4cmD8W92cK/AAAAAAAAAADVa63Dex/MPwAAAAAAAAAAjFobQY5W6T8AAAAAAAAAAA==\",\"dtype\":\"float64\",\"shape\":[50]}},\"selected\":{\"id\":\"1050\",\"type\":\"Selection\"},\"selection_policy\":{\"id\":\"1051\",\"type\":\"UnionRenderers\"}},\"id\":\"1002\",\"type\":\"ColumnDataSource\"},{\"attributes\":{\"formatter\":{\"id\":\"1046\",\"type\":\"BasicTickFormatter\"},\"plot\":{\"id\":\"1005\",\"subtype\":\"Figure\",\"type\":\"Plot\"},\"ticker\":{\"id\":\"1015\",\"type\":\"BasicTicker\"}},\"id\":\"1014\",\"type\":\"LinearAxis\"},{\"attributes\":{\"plot\":{\"id\":\"1005\",\"subtype\":\"Figure\",\"type\":\"Plot\"},\"source\":{\"id\":\"1002\",\"type\":\"ColumnDataSource\"},\"text\":{\"field\":\"document\"},\"text_align\":\"center\",\"text_color\":{\"value\":\"#555555\"},\"text_font_size\":{\"value\":\"8pt\"},\"x\":{\"field\":\"x\"},\"y\":{\"field\":\"y\"},\"y_offset\":{\"value\":8}},\"id\":\"1003\",\"type\":\"LabelSet\"},{\"attributes\":{},\"id\":\"1050\",\"type\":\"Selection\"},{\"attributes\":{},\"id\":\"1015\",\"type\":\"BasicTicker\"},{\"attributes\":{},\"id\":\"1051\",\"type\":\"UnionRenderers\"},{\"attributes\":{\"plot\":{\"id\":\"1005\",\"subtype\":\"Figure\",\"type\":\"Plot\"},\"ticker\":{\"id\":\"1015\",\"type\":\"BasicTicker\"}},\"id\":\"1018\",\"type\":\"Grid\"},{\"attributes\":{},\"id\":\"1020\",\"type\":\"BasicTicker\"},{\"attributes\":{\"formatter\":{\"id\":\"1048\",\"type\":\"BasicTickFormatter\"},\"plot\":{\"id\":\"1005\",\"subtype\":\"Figure\",\"type\":\"Plot\"},\"ticker\":{\"id\":\"1020\",\"type\":\"BasicTicker\"}},\"id\":\"1019\",\"type\":\"LinearAxis\"},{\"attributes\":{\"dimension\":1,\"plot\":{\"id\":\"1005\",\"subtype\":\"Figure\",\"type\":\"Plot\"},\"ticker\":{\"id\":\"1020\",\"type\":\"BasicTicker\"}},\"id\":\"1023\",\"type\":\"Grid\"}],\"root_ids\":[\"1005\"]},\"title\":\"Bokeh Application\",\"version\":\"1.0.2\"}};\n",
       "  var render_items = [{\"docid\":\"4c8b3f5a-9b58-4e6b-ad6b-edcdbd1fe4fa\",\"notebook_comms_target\":\"1053\",\"roots\":{\"1005\":\"46c83e9d-f89c-4a3d-9520-1ed1a1bf55bb\"}}];\n",
       "  root.Bokeh.embed.embed_items_notebook(docs_json, render_items);\n",
       "\n",
       "  }\n",
       "  if (root.Bokeh !== undefined) {\n",
       "    embed_document(root);\n",
       "  } else {\n",
       "    var attempts = 0;\n",
       "    var timer = setInterval(function(root) {\n",
       "      if (root.Bokeh !== undefined) {\n",
       "        embed_document(root);\n",
       "        clearInterval(timer);\n",
       "      }\n",
       "      attempts++;\n",
       "      if (attempts > 100) {\n",
       "        console.log(\"Bokeh: ERROR: Unable to run BokehJS code because BokehJS library is missing\");\n",
       "        clearInterval(timer);\n",
       "      }\n",
       "    }, 10, root)\n",
       "  }\n",
       "})(window);"
      ],
      "application/vnd.bokehjs_exec.v0+json": ""
     },
     "metadata": {
      "application/vnd.bokehjs_exec.v0+json": {
       "id": "1005"
      }
     },
     "output_type": "display_data"
    },
    {
     "data": {
      "text/html": [
       "<p><code>&lt;Bokeh Notebook handle for <strong>In[64]</strong>&gt;</code></p>"
      ],
      "text/plain": [
       "<bokeh.io.notebook.CommsHandle at 0x7f613d930b70>"
      ]
     },
     "execution_count": 64,
     "metadata": {},
     "output_type": "execute_result"
    }
   ],
   "source": [
    "svd = TruncatedSVD(n_components=2)\n",
    "documents_2d = svd.fit_transform(data_vectorized)\n",
    " \n",
    "df = pd.DataFrame(columns=['x', 'y', 'document'])\n",
    "df['x'], df['y'], df['document'] = documents_2d[:,0], documents_2d[:,1], range(len(a))\n",
    " \n",
    "source = ColumnDataSource(ColumnDataSource.from_df(df))\n",
    "labels = LabelSet(x=\"x\", y=\"y\", text=\"document\", y_offset=8,\n",
    "                  text_font_size=\"8pt\", text_color=\"#555555\",\n",
    "                  source=source, text_align='center')\n",
    " \n",
    "plot = figure(plot_width=600, plot_height=600)\n",
    "plot.circle(\"x\", \"y\", size=12, source=source, line_color=\"black\", fill_alpha=0.8)\n",
    "plot.add_layout(labels)\n",
    "show(plot, notebook_handle=True)"
   ]
  },
  {
   "cell_type": "code",
   "execution_count": 65,
   "metadata": {},
   "outputs": [
    {
     "data": {
      "text/html": [
       "\n",
       "\n",
       "\n",
       "\n",
       "\n",
       "\n",
       "  <div class=\"bk-root\" id=\"669da929-6529-412e-8f3c-9174801066d6\"></div>\n"
      ]
     },
     "metadata": {},
     "output_type": "display_data"
    },
    {
     "data": {
      "application/javascript": [
       "(function(root) {\n",
       "  function embed_document(root) {\n",
       "    \n",
       "  var docs_json = {\"62673f49-2ef6-49e0-b6e2-de5aac227a84\":{\"roots\":{\"references\":[{\"attributes\":{\"below\":[{\"id\":\"1120\",\"type\":\"LinearAxis\"}],\"left\":[{\"id\":\"1125\",\"type\":\"LinearAxis\"}],\"renderers\":[{\"id\":\"1120\",\"type\":\"LinearAxis\"},{\"id\":\"1124\",\"type\":\"Grid\"},{\"id\":\"1125\",\"type\":\"LinearAxis\"},{\"id\":\"1129\",\"type\":\"Grid\"},{\"id\":\"1138\",\"type\":\"BoxAnnotation\"},{\"id\":\"1148\",\"type\":\"GlyphRenderer\"},{\"id\":\"1109\",\"type\":\"LabelSet\"}],\"title\":{\"id\":\"1159\",\"type\":\"Title\"},\"toolbar\":{\"id\":\"1136\",\"type\":\"Toolbar\"},\"x_range\":{\"id\":\"1112\",\"type\":\"DataRange1d\"},\"x_scale\":{\"id\":\"1116\",\"type\":\"LinearScale\"},\"y_range\":{\"id\":\"1114\",\"type\":\"DataRange1d\"},\"y_scale\":{\"id\":\"1118\",\"type\":\"LinearScale\"}},\"id\":\"1111\",\"subtype\":\"Figure\",\"type\":\"Plot\"},{\"attributes\":{\"source\":{\"id\":\"1108\",\"type\":\"ColumnDataSource\"}},\"id\":\"1149\",\"type\":\"CDSView\"},{\"attributes\":{},\"id\":\"1118\",\"type\":\"LinearScale\"},{\"attributes\":{\"plot\":{\"id\":\"1111\",\"subtype\":\"Figure\",\"type\":\"Plot\"},\"source\":{\"id\":\"1108\",\"type\":\"ColumnDataSource\"},\"text\":{\"field\":\"word\"},\"text_align\":\"center\",\"text_color\":{\"value\":\"#555555\"},\"text_font_size\":{\"value\":\"8pt\"},\"x\":{\"field\":\"x\"},\"y\":{\"field\":\"y\"},\"y_offset\":{\"value\":8}},\"id\":\"1109\",\"type\":\"LabelSet\"},{\"attributes\":{},\"id\":\"1116\",\"type\":\"LinearScale\"},{\"attributes\":{\"data_source\":{\"id\":\"1108\",\"type\":\"ColumnDataSource\"},\"glyph\":{\"id\":\"1146\",\"type\":\"Circle\"},\"hover_glyph\":null,\"muted_glyph\":null,\"nonselection_glyph\":{\"id\":\"1147\",\"type\":\"Circle\"},\"selection_glyph\":null,\"view\":{\"id\":\"1149\",\"type\":\"CDSView\"}},\"id\":\"1148\",\"type\":\"GlyphRenderer\"},{\"attributes\":{\"plot\":{\"id\":\"1111\",\"subtype\":\"Figure\",\"type\":\"Plot\"},\"ticker\":{\"id\":\"1121\",\"type\":\"BasicTicker\"}},\"id\":\"1124\",\"type\":\"Grid\"},{\"attributes\":{\"callback\":null},\"id\":\"1114\",\"type\":\"DataRange1d\"},{\"attributes\":{},\"id\":\"1121\",\"type\":\"BasicTicker\"},{\"attributes\":{\"formatter\":{\"id\":\"1161\",\"type\":\"BasicTickFormatter\"},\"plot\":{\"id\":\"1111\",\"subtype\":\"Figure\",\"type\":\"Plot\"},\"ticker\":{\"id\":\"1121\",\"type\":\"BasicTicker\"}},\"id\":\"1120\",\"type\":\"LinearAxis\"},{\"attributes\":{},\"id\":\"1165\",\"type\":\"Selection\"},{\"attributes\":{\"fill_alpha\":{\"value\":0.1},\"fill_color\":{\"value\":\"#1f77b4\"},\"line_alpha\":{\"value\":0.1},\"line_color\":{\"value\":\"#1f77b4\"},\"size\":{\"units\":\"screen\",\"value\":12},\"x\":{\"field\":\"x\"},\"y\":{\"field\":\"y\"}},\"id\":\"1147\",\"type\":\"Circle\"},{\"attributes\":{},\"id\":\"1166\",\"type\":\"UnionRenderers\"},{\"attributes\":{\"dimension\":1,\"plot\":{\"id\":\"1111\",\"subtype\":\"Figure\",\"type\":\"Plot\"},\"ticker\":{\"id\":\"1126\",\"type\":\"BasicTicker\"}},\"id\":\"1129\",\"type\":\"Grid\"},{\"attributes\":{},\"id\":\"1126\",\"type\":\"BasicTicker\"},{\"attributes\":{\"formatter\":{\"id\":\"1163\",\"type\":\"BasicTickFormatter\"},\"plot\":{\"id\":\"1111\",\"subtype\":\"Figure\",\"type\":\"Plot\"},\"ticker\":{\"id\":\"1126\",\"type\":\"BasicTicker\"}},\"id\":\"1125\",\"type\":\"LinearAxis\"},{\"attributes\":{\"fill_alpha\":{\"value\":0.8},\"fill_color\":{\"value\":\"#1f77b4\"},\"size\":{\"units\":\"screen\",\"value\":12},\"x\":{\"field\":\"x\"},\"y\":{\"field\":\"y\"}},\"id\":\"1146\",\"type\":\"Circle\"},{\"attributes\":{\"active_drag\":\"auto\",\"active_inspect\":\"auto\",\"active_multi\":null,\"active_scroll\":\"auto\",\"active_tap\":\"auto\",\"tools\":[{\"id\":\"1130\",\"type\":\"PanTool\"},{\"id\":\"1131\",\"type\":\"WheelZoomTool\"},{\"id\":\"1132\",\"type\":\"BoxZoomTool\"},{\"id\":\"1133\",\"type\":\"SaveTool\"},{\"id\":\"1134\",\"type\":\"ResetTool\"},{\"id\":\"1135\",\"type\":\"HelpTool\"}]},\"id\":\"1136\",\"type\":\"Toolbar\"},{\"attributes\":{\"overlay\":{\"id\":\"1138\",\"type\":\"BoxAnnotation\"}},\"id\":\"1132\",\"type\":\"BoxZoomTool\"},{\"attributes\":{\"plot\":null,\"text\":\"\"},\"id\":\"1159\",\"type\":\"Title\"},{\"attributes\":{\"callback\":null,\"data\":{\"index\":[0,1,2,3,4,5],\"word\":[\"les\",\"los\",\"ntos\",\"que\",\"son\",\"una\"],\"x\":{\"__ndarray__\":\"iR4+qdm//D/r4/W6G9oMQAa0j0+qHsg/AL3WUWAttj/a4Deg8Y0BQNLeaJBIHcw/\",\"dtype\":\"float64\",\"shape\":[6]},\"y\":{\"__ndarray__\":\"IXb43vTFtb83nrODZonRv+Kj7wezKeo/FMoG7nWSB0Ccb1iOlZ6/PwG6nv2lxwBA\",\"dtype\":\"float64\",\"shape\":[6]}},\"selected\":{\"id\":\"1165\",\"type\":\"Selection\"},\"selection_policy\":{\"id\":\"1166\",\"type\":\"UnionRenderers\"}},\"id\":\"1108\",\"type\":\"ColumnDataSource\"},{\"attributes\":{},\"id\":\"1163\",\"type\":\"BasicTickFormatter\"},{\"attributes\":{},\"id\":\"1131\",\"type\":\"WheelZoomTool\"},{\"attributes\":{\"bottom_units\":\"screen\",\"fill_alpha\":{\"value\":0.5},\"fill_color\":{\"value\":\"lightgrey\"},\"left_units\":\"screen\",\"level\":\"overlay\",\"line_alpha\":{\"value\":1.0},\"line_color\":{\"value\":\"black\"},\"line_dash\":[4,4],\"line_width\":{\"value\":2},\"plot\":null,\"render_mode\":\"css\",\"right_units\":\"screen\",\"top_units\":\"screen\"},\"id\":\"1138\",\"type\":\"BoxAnnotation\"},{\"attributes\":{},\"id\":\"1130\",\"type\":\"PanTool\"},{\"attributes\":{},\"id\":\"1133\",\"type\":\"SaveTool\"},{\"attributes\":{\"callback\":null},\"id\":\"1112\",\"type\":\"DataRange1d\"},{\"attributes\":{},\"id\":\"1135\",\"type\":\"HelpTool\"},{\"attributes\":{},\"id\":\"1161\",\"type\":\"BasicTickFormatter\"},{\"attributes\":{},\"id\":\"1134\",\"type\":\"ResetTool\"}],\"root_ids\":[\"1111\"]},\"title\":\"Bokeh Application\",\"version\":\"1.0.2\"}};\n",
       "  var render_items = [{\"docid\":\"62673f49-2ef6-49e0-b6e2-de5aac227a84\",\"notebook_comms_target\":\"1168\",\"roots\":{\"1111\":\"669da929-6529-412e-8f3c-9174801066d6\"}}];\n",
       "  root.Bokeh.embed.embed_items_notebook(docs_json, render_items);\n",
       "\n",
       "  }\n",
       "  if (root.Bokeh !== undefined) {\n",
       "    embed_document(root);\n",
       "  } else {\n",
       "    var attempts = 0;\n",
       "    var timer = setInterval(function(root) {\n",
       "      if (root.Bokeh !== undefined) {\n",
       "        embed_document(root);\n",
       "        clearInterval(timer);\n",
       "      }\n",
       "      attempts++;\n",
       "      if (attempts > 100) {\n",
       "        console.log(\"Bokeh: ERROR: Unable to run BokehJS code because BokehJS library is missing\");\n",
       "        clearInterval(timer);\n",
       "      }\n",
       "    }, 10, root)\n",
       "  }\n",
       "})(window);"
      ],
      "application/vnd.bokehjs_exec.v0+json": ""
     },
     "metadata": {
      "application/vnd.bokehjs_exec.v0+json": {
       "id": "1111"
      }
     },
     "output_type": "display_data"
    },
    {
     "data": {
      "text/html": [
       "<p><code>&lt;Bokeh Notebook handle for <strong>In[65]</strong>&gt;</code></p>"
      ],
      "text/plain": [
       "<bokeh.io.notebook.CommsHandle at 0x7f613d8997b8>"
      ]
     },
     "execution_count": 65,
     "metadata": {},
     "output_type": "execute_result"
    }
   ],
   "source": [
    "svd = TruncatedSVD(n_components=2)\n",
    "words_2d = svd.fit_transform(data_vectorized.T)\n",
    " \n",
    "df = pd.DataFrame(columns=['x', 'y', 'word'])\n",
    "df['x'], df['y'], df['word'] = words_2d[:,0], words_2d[:,1], vectorizer.get_feature_names()\n",
    " \n",
    "source = ColumnDataSource(ColumnDataSource.from_df(df))\n",
    "labels = LabelSet(x=\"x\", y=\"y\", text=\"word\", y_offset=8,\n",
    "                  text_font_size=\"8pt\", text_color=\"#555555\",\n",
    "                  source=source, text_align='center')\n",
    " \n",
    "plot = figure(plot_width=600, plot_height=600)\n",
    "plot.circle(\"x\", \"y\", size=12, source=source, line_color=\"black\", fill_alpha=0.8)\n",
    "plot.add_layout(labels)\n",
    "show(plot, notebook_handle=True)"
   ]
  },
  {
   "cell_type": "markdown",
   "metadata": {},
   "source": [
    "# Drichlet "
   ]
  }
 ],
 "metadata": {
  "kernelspec": {
   "display_name": "Python 3",
   "language": "python",
   "name": "python3"
  },
  "language_info": {
   "codemirror_mode": {
    "name": "ipython",
    "version": 3
   },
   "file_extension": ".py",
   "mimetype": "text/x-python",
   "name": "python",
   "nbconvert_exporter": "python",
   "pygments_lexer": "ipython3",
   "version": "3.6.7"
  }
 },
 "nbformat": 4,
 "nbformat_minor": 2
}
